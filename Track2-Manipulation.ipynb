{
 "cells": [
  {
   "cell_type": "markdown",
   "id": "da98c1d6-c41f-4d75-980e-cf7f6540711c",
   "metadata": {},
   "source": [
    "# Manipulating DataFrames in the real world\n",
    "\n",
    "A look at various techniques to modify the contents of DataFrames in Spark.\n",
    "\n",
    "## Preparing the environment\n",
    "\n",
    "### Importing libraries"
   ]
  },
  {
   "cell_type": "code",
   "execution_count": 1,
   "id": "84770b51-2d57-4b9d-b8ff-bc5b8773783b",
   "metadata": {},
   "outputs": [],
   "source": [
    "import pandas as pd\n",
    "import random\n",
    "\n",
    "from typing import List\n",
    "\n",
    "from pyspark.sql.types import (_parse_datatype_string, StructType, StructField,\n",
    "                               DoubleType, IntegerType, StringType, FloatType)\n",
    "from pyspark.sql import SparkSession\n",
    "from pyspark.sql import functions as F"
   ]
  },
  {
   "cell_type": "code",
   "execution_count": 2,
   "id": "44608dc4-fe61-4d75-a337-7c8ef9d7f5c9",
   "metadata": {},
   "outputs": [],
   "source": [
    "import warnings\n",
    "warnings.filterwarnings(\"ignore\")  # Ignore warnings coming from Arrow optimizations."
   ]
  },
  {
   "cell_type": "markdown",
   "id": "dd3751f7-cc7f-4c27-9055-d76887924963",
   "metadata": {},
   "source": [
    "### Connect to Spark"
   ]
  },
  {
   "cell_type": "code",
   "execution_count": 3,
   "id": "d00fd800-7416-4120-b336-c915d9797bd4",
   "metadata": {},
   "outputs": [],
   "source": [
    "spark = (SparkSession.builder\n",
    "                     .config(\"spark.sql.repl.eagerEval.enabled\", True)  # eval DataFrame in notebooks\n",
    "                     .getOrCreate())"
   ]
  },
  {
   "cell_type": "code",
   "execution_count": 4,
   "id": "ffd0fb21-d1fe-49c0-abf0-15b3702f5313",
   "metadata": {},
   "outputs": [],
   "source": [
    "sc = spark.sparkContext"
   ]
  },
  {
   "cell_type": "markdown",
   "id": "ea505934-a70b-4017-9af1-e33c8399adb0",
   "metadata": {},
   "source": [
    "### Loading data"
   ]
  },
  {
   "cell_type": "code",
   "execution_count": 5,
   "id": "22b83775-1081-484a-a393-9944be747d7d",
   "metadata": {},
   "outputs": [
    {
     "name": "stdout",
     "output_type": "stream",
     "text": [
      "root\n",
      " |-- Date (MM/DD/YYYY): date (nullable = true)\n",
      " |-- Flight Number: integer (nullable = true)\n",
      " |-- Destination Airport: string (nullable = true)\n",
      " |-- Actual elapsed time (Minutes): integer (nullable = true)\n",
      "\n"
     ]
    },
    {
     "data": {
      "text/html": [
       "<table border='1'>\n",
       "<tr><th>Date (MM/DD/YYYY)</th><th>Flight Number</th><th>Destination Airport</th><th>Actual elapsed time (Minutes)</th></tr>\n",
       "<tr><td>2014-01-01</td><td>5</td><td>HNL</td><td>519</td></tr>\n",
       "<tr><td>2014-01-01</td><td>7</td><td>OGG</td><td>505</td></tr>\n",
       "</table>\n"
      ],
      "text/plain": [
       "+-----------------+-------------+-------------------+-----------------------------+\n",
       "|Date (MM/DD/YYYY)|Flight Number|Destination Airport|Actual elapsed time (Minutes)|\n",
       "+-----------------+-------------+-------------------+-----------------------------+\n",
       "|       2014-01-01|            5|                HNL|                          519|\n",
       "|       2014-01-01|            7|                OGG|                          505|\n",
       "+-----------------+-------------+-------------------+-----------------------------+"
      ]
     },
     "execution_count": 5,
     "metadata": {},
     "output_type": "execute_result"
    }
   ],
   "source": [
    "flights_2014 = spark.read.csv('data-sources/AA_DFW_2014_Departures_Short.csv.gz', header=True, inferSchema=True)\n",
    "\n",
    "# cast to date\n",
    "flights_2014 = flights_2014.withColumn(\"Date (MM/DD/YYYY)\", \n",
    "                                       F.to_date(flights_2014[\"Date (MM/DD/YYYY)\"], \"MM/dd/yyyy\"))\n",
    "\n",
    "flights_2014.createOrReplaceTempView(\"flights_2014\")\n",
    "flights_2014.printSchema()\n",
    "flights_2014.limit(2)"
   ]
  },
  {
   "cell_type": "code",
   "execution_count": 6,
   "id": "5b689046-34a9-4503-8e59-97f61b064c47",
   "metadata": {},
   "outputs": [
    {
     "name": "stdout",
     "output_type": "stream",
     "text": [
      "root\n",
      " |-- Date (MM/DD/YYYY): date (nullable = true)\n",
      " |-- Flight Number: integer (nullable = true)\n",
      " |-- Destination Airport: string (nullable = true)\n",
      " |-- Actual elapsed time (Minutes): integer (nullable = true)\n",
      "\n"
     ]
    },
    {
     "data": {
      "text/html": [
       "<table border='1'>\n",
       "<tr><th>Date (MM/DD/YYYY)</th><th>Flight Number</th><th>Destination Airport</th><th>Actual elapsed time (Minutes)</th></tr>\n",
       "<tr><td>2015-01-01</td><td>5</td><td>HNL</td><td>526</td></tr>\n",
       "<tr><td>2015-01-01</td><td>7</td><td>OGG</td><td>517</td></tr>\n",
       "</table>\n"
      ],
      "text/plain": [
       "+-----------------+-------------+-------------------+-----------------------------+\n",
       "|Date (MM/DD/YYYY)|Flight Number|Destination Airport|Actual elapsed time (Minutes)|\n",
       "+-----------------+-------------+-------------------+-----------------------------+\n",
       "|       2015-01-01|            5|                HNL|                          526|\n",
       "|       2015-01-01|            7|                OGG|                          517|\n",
       "+-----------------+-------------+-------------------+-----------------------------+"
      ]
     },
     "execution_count": 6,
     "metadata": {},
     "output_type": "execute_result"
    }
   ],
   "source": [
    "flights_2015 = spark.read.csv('data-sources/AA_DFW_2015_Departures_Short.csv.gz', header=True, inferSchema=True)\n",
    "\n",
    "# cast to date\n",
    "flights_2015 = flights_2015.withColumn(\"Date (MM/DD/YYYY)\", \n",
    "                                       F.to_date(flights_2015[\"Date (MM/DD/YYYY)\"], \"MM/dd/yyyy\"))\n",
    "\n",
    "flights_2015.createOrReplaceTempView(\"flights_2015\")\n",
    "flights_2015.printSchema()\n",
    "flights_2015.limit(2)"
   ]
  },
  {
   "cell_type": "code",
   "execution_count": 7,
   "id": "96fcc16c-b1ea-4219-9833-ad050a1d25d2",
   "metadata": {},
   "outputs": [
    {
     "name": "stdout",
     "output_type": "stream",
     "text": [
      "root\n",
      " |-- Date (MM/DD/YYYY): date (nullable = true)\n",
      " |-- Flight Number: integer (nullable = true)\n",
      " |-- Destination Airport: string (nullable = true)\n",
      " |-- Actual elapsed time (Minutes): integer (nullable = true)\n",
      "\n"
     ]
    },
    {
     "data": {
      "text/html": [
       "<table border='1'>\n",
       "<tr><th>Date (MM/DD/YYYY)</th><th>Flight Number</th><th>Destination Airport</th><th>Actual elapsed time (Minutes)</th></tr>\n",
       "<tr><td>2017-01-01</td><td>5</td><td>HNL</td><td>537</td></tr>\n",
       "<tr><td>2017-01-01</td><td>7</td><td>OGG</td><td>498</td></tr>\n",
       "</table>\n"
      ],
      "text/plain": [
       "+-----------------+-------------+-------------------+-----------------------------+\n",
       "|Date (MM/DD/YYYY)|Flight Number|Destination Airport|Actual elapsed time (Minutes)|\n",
       "+-----------------+-------------+-------------------+-----------------------------+\n",
       "|       2017-01-01|            5|                HNL|                          537|\n",
       "|       2017-01-01|            7|                OGG|                          498|\n",
       "+-----------------+-------------+-------------------+-----------------------------+"
      ]
     },
     "execution_count": 7,
     "metadata": {},
     "output_type": "execute_result"
    }
   ],
   "source": [
    "flights_2017 = spark.read.csv('data-sources/AA_DFW_2017_Departures_Short.csv.gz', header=True, inferSchema=True)\n",
    "\n",
    "# cast to date\n",
    "flights_2017 = flights_2017.withColumn(\"Date (MM/DD/YYYY)\", \n",
    "                                       F.to_date(flights_2017[\"Date (MM/DD/YYYY)\"], \"MM/dd/yyyy\"))\n",
    "flights_2017.createOrReplaceTempView(\"flights_2017\")\n",
    "flights_2017.printSchema()\n",
    "flights_2017.limit(2)"
   ]
  },
  {
   "cell_type": "code",
   "execution_count": 8,
   "id": "dfbb6415-4ff7-417a-99ea-2851ce4ac093",
   "metadata": {},
   "outputs": [
    {
     "name": "stdout",
     "output_type": "stream",
     "text": [
      "root\n",
      " |-- Date (MM/DD/YYYY): date (nullable = true)\n",
      " |-- Flight Number: integer (nullable = true)\n",
      " |-- Destination Airport: string (nullable = true)\n",
      " |-- Actual elapsed time (Minutes): integer (nullable = true)\n",
      "\n"
     ]
    },
    {
     "data": {
      "text/html": [
       "<table border='1'>\n",
       "<tr><th>Date (MM/DD/YYYY)</th><th>Flight Number</th><th>Destination Airport</th><th>Actual elapsed time (Minutes)</th></tr>\n",
       "<tr><td>2018-01-01</td><td>5</td><td>HNL</td><td>498</td></tr>\n",
       "<tr><td>2018-01-01</td><td>7</td><td>OGG</td><td>501</td></tr>\n",
       "</table>\n"
      ],
      "text/plain": [
       "+-----------------+-------------+-------------------+-----------------------------+\n",
       "|Date (MM/DD/YYYY)|Flight Number|Destination Airport|Actual elapsed time (Minutes)|\n",
       "+-----------------+-------------+-------------------+-----------------------------+\n",
       "|       2018-01-01|            5|                HNL|                          498|\n",
       "|       2018-01-01|            7|                OGG|                          501|\n",
       "+-----------------+-------------+-------------------+-----------------------------+"
      ]
     },
     "execution_count": 8,
     "metadata": {},
     "output_type": "execute_result"
    }
   ],
   "source": [
    "flights_2018 = spark.read.csv('data-sources/AA_DFW_2018_Departures_Short.csv.gz', header=True, inferSchema=True)\n",
    "\n",
    "# cast to date\n",
    "flights_2018 = flights_2018.withColumn(\"Date (MM/DD/YYYY)\", \n",
    "                                       F.to_date(flights_2018[\"Date (MM/DD/YYYY)\"], \"MM/dd/yyyy\"))\n",
    "flights_2018.createOrReplaceTempView(\"flights_2018\")\n",
    "flights_2018.printSchema()\n",
    "flights_2018.limit(2)"
   ]
  },
  {
   "cell_type": "code",
   "execution_count": 9,
   "id": "da08c587-0bbe-4a65-955d-f35c931ff7fb",
   "metadata": {},
   "outputs": [
    {
     "name": "stdout",
     "output_type": "stream",
     "text": [
      "root\n",
      " |-- DATE: date (nullable = true)\n",
      " |-- TITLE: string (nullable = true)\n",
      " |-- VOTER_NAME: string (nullable = true)\n",
      "\n"
     ]
    },
    {
     "data": {
      "text/html": [
       "<table border='1'>\n",
       "<tr><th>DATE</th><th>TITLE</th><th>VOTER_NAME</th></tr>\n",
       "<tr><td>2017-02-08</td><td>Councilmember</td><td>Jennifer S. Gates</td></tr>\n",
       "<tr><td>2017-02-08</td><td>Councilmember</td><td>Philip T. Kingston</td></tr>\n",
       "</table>\n"
      ],
      "text/plain": [
       "+----------+-------------+------------------+\n",
       "|      DATE|        TITLE|        VOTER_NAME|\n",
       "+----------+-------------+------------------+\n",
       "|2017-02-08|Councilmember| Jennifer S. Gates|\n",
       "|2017-02-08|Councilmember|Philip T. Kingston|\n",
       "+----------+-------------+------------------+"
      ]
     },
     "execution_count": 9,
     "metadata": {},
     "output_type": "execute_result"
    }
   ],
   "source": [
    "dallas_electors = spark.read.csv('data-sources/DallasCouncilVoters.csv.gz', header=True, inferSchema=True)\n",
    "\n",
    "# cast to date\n",
    "dallas_electors = dallas_electors.withColumn(\"DATE\", F.to_date(dallas_electors[\"DATE\"], \"MM/dd/yyyy\"))\n",
    "\n",
    "dallas_electors.createOrReplaceTempView(\"dallas_electors\")\n",
    "dallas_electors.printSchema()\n",
    "dallas_electors.limit(2)"
   ]
  },
  {
   "cell_type": "code",
   "execution_count": 10,
   "id": "28b876ad-3103-481b-94c6-a84c80cc9c9f",
   "metadata": {},
   "outputs": [
    {
     "name": "stdout",
     "output_type": "stream",
     "text": [
      "root\n",
      " |-- DATE: date (nullable = true)\n",
      " |-- AGENDA_ITEM_NUMBER: string (nullable = true)\n",
      " |-- ITEM_TYPE: string (nullable = true)\n",
      " |-- DISTRICT: string (nullable = true)\n",
      " |-- TITLE: string (nullable = true)\n",
      " |-- VOTER NAME: string (nullable = true)\n",
      " |-- VOTE CAST: string (nullable = true)\n",
      " |-- FINAL ACTION TAKEN: string (nullable = true)\n",
      " |-- AGENDA ITEM DESCRIPTION: string (nullable = true)\n",
      " |-- AGENDA_ID: string (nullable = true)\n",
      " |-- VOTE_ID: string (nullable = true)\n",
      "\n"
     ]
    },
    {
     "data": {
      "text/html": [
       "<table border='1'>\n",
       "<tr><th>DATE</th><th>AGENDA_ITEM_NUMBER</th><th>ITEM_TYPE</th><th>DISTRICT</th><th>TITLE</th><th>VOTER NAME</th><th>VOTE CAST</th><th>FINAL ACTION TAKEN</th><th>AGENDA ITEM DESCRIPTION</th><th>AGENDA_ID</th><th>VOTE_ID</th></tr>\n",
       "<tr><td>2017-02-08</td><td>1</td><td>AGENDA</td><td>13</td><td>Councilmember</td><td>Jennifer S. Gates</td><td>N/A</td><td>NO ACTION NEEDED</td><td>Call to Order</td><td>020817__Special__1</td><td>020817__Special__...</td></tr>\n",
       "<tr><td>2017-02-08</td><td>1</td><td>AGENDA</td><td>14</td><td>Councilmember</td><td>Philip T. Kingston</td><td>N/A</td><td>NO ACTION NEEDED</td><td>Call to Order</td><td>020817__Special__1</td><td>020817__Special__...</td></tr>\n",
       "</table>\n"
      ],
      "text/plain": [
       "+----------+------------------+---------+--------+-------------+------------------+---------+------------------+-----------------------+------------------+--------------------+\n",
       "|      DATE|AGENDA_ITEM_NUMBER|ITEM_TYPE|DISTRICT|        TITLE|        VOTER NAME|VOTE CAST|FINAL ACTION TAKEN|AGENDA ITEM DESCRIPTION|         AGENDA_ID|             VOTE_ID|\n",
       "+----------+------------------+---------+--------+-------------+------------------+---------+------------------+-----------------------+------------------+--------------------+\n",
       "|2017-02-08|                 1|   AGENDA|      13|Councilmember| Jennifer S. Gates|      N/A|  NO ACTION NEEDED|          Call to Order|020817__Special__1|020817__Special__...|\n",
       "|2017-02-08|                 1|   AGENDA|      14|Councilmember|Philip T. Kingston|      N/A|  NO ACTION NEEDED|          Call to Order|020817__Special__1|020817__Special__...|\n",
       "+----------+------------------+---------+--------+-------------+------------------+---------+------------------+-----------------------+------------------+--------------------+"
      ]
     },
     "execution_count": 10,
     "metadata": {},
     "output_type": "execute_result"
    }
   ],
   "source": [
    "dallas_votes = spark.read.csv('data-sources/DallasCouncilVotes.csv.gz', header=True, inferSchema=True)\n",
    "\n",
    "# cast to date\n",
    "dallas_votes = dallas_votes.withColumn(\"DATE\", F.to_date(dallas_votes[\"DATE\"], \"MM/dd/yyyy\"))\n",
    "\n",
    "dallas_votes.createOrReplaceTempView(\"dallas_votes\")\n",
    "dallas_votes.printSchema()\n",
    "dallas_votes.limit(2)"
   ]
  },
  {
   "cell_type": "code",
   "execution_count": 11,
   "id": "e668d9e4-2fe8-48aa-8944-81ffd53e1659",
   "metadata": {},
   "outputs": [
    {
     "name": "stdout",
     "output_type": "stream",
     "text": [
      "root\n",
      " |-- name: string (nullable = true)\n",
      " |-- age: integer (nullable = true)\n",
      " |-- city: string (nullable = true)\n",
      "\n"
     ]
    },
    {
     "data": {
      "text/html": [
       "<table border='1'>\n",
       "<tr><th>name</th><th>age</th><th>city</th></tr>\n",
       "<tr><td>Amy Meyer</td><td>3</td><td>Kimberlyborough</td></tr>\n",
       "<tr><td>Amy Jones</td><td>10</td><td>Davidburgh</td></tr>\n",
       "</table>\n"
      ],
      "text/plain": [
       "+---------+---+---------------+\n",
       "|     name|age|           city|\n",
       "+---------+---+---------------+\n",
       "|Amy Meyer|  3|Kimberlyborough|\n",
       "|Amy Jones| 10|     Davidburgh|\n",
       "+---------+---+---------------+"
      ]
     },
     "execution_count": 11,
     "metadata": {},
     "output_type": "execute_result"
    }
   ],
   "source": [
    "people = spark.read.csv('data-sources/people_data_sample.csv', header=True, inferSchema=True)\n",
    "people.createOrReplaceTempView(\"people\")\n",
    "people.printSchema()\n",
    "people.limit(2)"
   ]
  },
  {
   "cell_type": "code",
   "execution_count": 12,
   "id": "f1e22221-fc71-4026-a372-ca6543dea502",
   "metadata": {},
   "outputs": [
    {
     "name": "stdout",
     "output_type": "stream",
     "text": [
      "root\n",
      " |-- FL_DATE: date (nullable = true)\n",
      " |-- OP_CARRIER: string (nullable = true)\n",
      " |-- OP_CARRIER_FL_NUM: integer (nullable = true)\n",
      " |-- ORIGIN: string (nullable = true)\n",
      " |-- ORIGIN_CITY_NAME: string (nullable = true)\n",
      " |-- DEST: string (nullable = true)\n",
      " |-- DEST_CITY_NAME: string (nullable = true)\n",
      " |-- CRS_DEP_TIME: integer (nullable = true)\n",
      " |-- DEP_TIME: integer (nullable = true)\n",
      " |-- WHEELS_ON: integer (nullable = true)\n",
      " |-- TAXI_IN: integer (nullable = true)\n",
      " |-- CRS_ARR_TIME: integer (nullable = true)\n",
      " |-- ARR_TIME: integer (nullable = true)\n",
      " |-- CANCELLED: integer (nullable = true)\n",
      " |-- DISTANCE: integer (nullable = true)\n",
      "\n"
     ]
    },
    {
     "data": {
      "text/html": [
       "<table border='1'>\n",
       "<tr><th>FL_DATE</th><th>OP_CARRIER</th><th>OP_CARRIER_FL_NUM</th><th>ORIGIN</th><th>ORIGIN_CITY_NAME</th><th>DEST</th><th>DEST_CITY_NAME</th><th>CRS_DEP_TIME</th><th>DEP_TIME</th><th>WHEELS_ON</th><th>TAXI_IN</th><th>CRS_ARR_TIME</th><th>ARR_TIME</th><th>CANCELLED</th><th>DISTANCE</th></tr>\n",
       "<tr><td>2000-01-01</td><td>DL</td><td>1451</td><td>BOS</td><td>Boston, MA</td><td>ATL</td><td>Atlanta, GA</td><td>1115</td><td>1113</td><td>1343</td><td>5</td><td>1400</td><td>1348</td><td>0</td><td>946</td></tr>\n",
       "<tr><td>2000-01-01</td><td>DL</td><td>1479</td><td>BOS</td><td>Boston, MA</td><td>ATL</td><td>Atlanta, GA</td><td>1315</td><td>1311</td><td>1536</td><td>7</td><td>1559</td><td>1543</td><td>0</td><td>946</td></tr>\n",
       "</table>\n"
      ],
      "text/plain": [
       "+----------+----------+-----------------+------+----------------+----+--------------+------------+--------+---------+-------+------------+--------+---------+--------+\n",
       "|   FL_DATE|OP_CARRIER|OP_CARRIER_FL_NUM|ORIGIN|ORIGIN_CITY_NAME|DEST|DEST_CITY_NAME|CRS_DEP_TIME|DEP_TIME|WHEELS_ON|TAXI_IN|CRS_ARR_TIME|ARR_TIME|CANCELLED|DISTANCE|\n",
       "+----------+----------+-----------------+------+----------------+----+--------------+------------+--------+---------+-------+------------+--------+---------+--------+\n",
       "|2000-01-01|        DL|             1451|   BOS|      Boston, MA| ATL|   Atlanta, GA|        1115|    1113|     1343|      5|        1400|    1348|        0|     946|\n",
       "|2000-01-01|        DL|             1479|   BOS|      Boston, MA| ATL|   Atlanta, GA|        1315|    1311|     1536|      7|        1559|    1543|        0|     946|\n",
       "+----------+----------+-----------------+------+----------------+----+--------------+------------+--------+---------+-------+------------+--------+---------+--------+"
      ]
     },
     "execution_count": 12,
     "metadata": {},
     "output_type": "execute_result"
    }
   ],
   "source": [
    "flight = spark.read.parquet('data-sources/flight-time.parquet')\n",
    "flight.createOrReplaceTempView(\"flight\")\n",
    "flight.printSchema()\n",
    "flight.limit(2)"
   ]
  },
  {
   "cell_type": "markdown",
   "id": "6b9d4812-a693-4bca-ad36-d6f4f26cdc84",
   "metadata": {},
   "source": [
    "### Tables catalogue"
   ]
  },
  {
   "cell_type": "code",
   "execution_count": 13,
   "id": "79396001-462c-4a29-af32-99de195527fd",
   "metadata": {},
   "outputs": [
    {
     "data": {
      "text/plain": [
       "[Table(name='dallas_electors', catalog=None, namespace=[], description=None, tableType='TEMPORARY', isTemporary=True),\n",
       " Table(name='dallas_votes', catalog=None, namespace=[], description=None, tableType='TEMPORARY', isTemporary=True),\n",
       " Table(name='flight', catalog=None, namespace=[], description=None, tableType='TEMPORARY', isTemporary=True),\n",
       " Table(name='flights_2014', catalog=None, namespace=[], description=None, tableType='TEMPORARY', isTemporary=True),\n",
       " Table(name='flights_2015', catalog=None, namespace=[], description=None, tableType='TEMPORARY', isTemporary=True),\n",
       " Table(name='flights_2017', catalog=None, namespace=[], description=None, tableType='TEMPORARY', isTemporary=True),\n",
       " Table(name='flights_2018', catalog=None, namespace=[], description=None, tableType='TEMPORARY', isTemporary=True),\n",
       " Table(name='people', catalog=None, namespace=[], description=None, tableType='TEMPORARY', isTemporary=True)]"
      ]
     },
     "execution_count": 13,
     "metadata": {},
     "output_type": "execute_result"
    }
   ],
   "source": [
    "spark.catalog.listTables()"
   ]
  },
  {
   "cell_type": "markdown",
   "id": "72ddeaa8-48c5-4409-8c52-a53a4f5cd5a1",
   "metadata": {},
   "source": [
    "## DataFrame column operations\n",
    "\n",
    "### DataFrame refresher"
   ]
  },
  {
   "cell_type": "code",
   "execution_count": 14,
   "id": "094e094f-9551-4fc3-8a88-b36c8f3d10c3",
   "metadata": {},
   "outputs": [
    {
     "data": {
      "text/html": [
       "<table border='1'>\n",
       "<tr><th>DATE</th><th>TITLE</th><th>VOTER_NAME</th></tr>\n",
       "<tr><td>2017-02-08</td><td>Councilmember</td><td>Jennifer S. Gates</td></tr>\n",
       "<tr><td>2017-02-08</td><td>Councilmember</td><td>Philip T. Kingston</td></tr>\n",
       "</table>\n"
      ],
      "text/plain": [
       "+----------+-------------+------------------+\n",
       "|      DATE|        TITLE|        VOTER_NAME|\n",
       "+----------+-------------+------------------+\n",
       "|2017-02-08|Councilmember| Jennifer S. Gates|\n",
       "|2017-02-08|Councilmember|Philip T. Kingston|\n",
       "+----------+-------------+------------------+"
      ]
     },
     "execution_count": 14,
     "metadata": {},
     "output_type": "execute_result"
    }
   ],
   "source": [
    "# Return rows where name starts with \"M\"\n",
    "voter_df = dallas_electors.select('*')\n",
    "voter_df.limit(2)"
   ]
  },
  {
   "cell_type": "code",
   "execution_count": 15,
   "id": "9cb6e324-7940-41af-b583-10135e6202dc",
   "metadata": {},
   "outputs": [
    {
     "data": {
      "text/html": [
       "<table border='1'>\n",
       "<tr><th>DATE</th><th>TITLE</th><th>VOTER_NAME</th></tr>\n",
       "<tr><td>2017-02-08</td><td>Mayor</td><td>Michael S. Rawlings</td></tr>\n",
       "<tr><td>2017-02-08</td><td>Mayor</td><td>Michael S. Rawlings</td></tr>\n",
       "</table>\n"
      ],
      "text/plain": [
       "+----------+-----+-------------------+\n",
       "|      DATE|TITLE|         VOTER_NAME|\n",
       "+----------+-----+-------------------+\n",
       "|2017-02-08|Mayor|Michael S. Rawlings|\n",
       "|2017-02-08|Mayor|Michael S. Rawlings|\n",
       "+----------+-----+-------------------+"
      ]
     },
     "execution_count": 15,
     "metadata": {},
     "output_type": "execute_result"
    }
   ],
   "source": [
    "# Return rows where name starts with \"M\"\n",
    "voter_df.filter(voter_df.VOTER_NAME.like('M%')).limit(2)"
   ]
  },
  {
   "cell_type": "code",
   "execution_count": 16,
   "id": "f016c645-d5b3-4b39-9c59-517b4c133b86",
   "metadata": {},
   "outputs": [
    {
     "data": {
      "text/html": [
       "<table border='1'>\n",
       "<tr><th>VOTER_NAME</th><th>TITLE</th></tr>\n",
       "<tr><td>Jennifer S. Gates</td><td>Councilmember</td></tr>\n",
       "<tr><td>Philip T. Kingston</td><td>Councilmember</td></tr>\n",
       "</table>\n"
      ],
      "text/plain": [
       "+------------------+-------------+\n",
       "|        VOTER_NAME|        TITLE|\n",
       "+------------------+-------------+\n",
       "| Jennifer S. Gates|Councilmember|\n",
       "|Philip T. Kingston|Councilmember|\n",
       "+------------------+-------------+"
      ]
     },
     "execution_count": 16,
     "metadata": {},
     "output_type": "execute_result"
    }
   ],
   "source": [
    "# Return name and position only\n",
    "voters = voter_df.select('VOTER_NAME', 'TITLE')\n",
    "voters.limit(2)"
   ]
  },
  {
   "cell_type": "markdown",
   "id": "2f6ba23d-880b-4420-aac4-397e15dc3de6",
   "metadata": {},
   "source": [
    "### Common DataFrame transformations"
   ]
  },
  {
   "cell_type": "code",
   "execution_count": 17,
   "id": "2eafae12-c71d-448e-b9f2-45d684df7490",
   "metadata": {},
   "outputs": [
    {
     "data": {
      "text/html": [
       "<table border='1'>\n",
       "<tr><th>DATE</th><th>TITLE</th><th>VOTER_NAME</th></tr>\n",
       "<tr><td>2018-04-25</td><td>Councilmember</td><td>Sandy  Greyson</td></tr>\n",
       "<tr><td>2018-04-25</td><td>Councilmember</td><td>Jennifer S.  Gates</td></tr>\n",
       "</table>\n"
      ],
      "text/plain": [
       "+----------+-------------+------------------+\n",
       "|      DATE|        TITLE|        VOTER_NAME|\n",
       "+----------+-------------+------------------+\n",
       "|2018-04-25|Councilmember|    Sandy  Greyson|\n",
       "|2018-04-25|Councilmember|Jennifer S.  Gates|\n",
       "+----------+-------------+------------------+"
      ]
     },
     "execution_count": 17,
     "metadata": {},
     "output_type": "execute_result"
    }
   ],
   "source": [
    "# Filter / Where\n",
    "voter_df.filter(voter_df.DATE > pd.to_datetime('2018/01/01')).limit(2)  # or voter_df.where(...)"
   ]
  },
  {
   "cell_type": "code",
   "execution_count": 18,
   "id": "46257e07-e20e-4ae8-a2bc-377417514699",
   "metadata": {},
   "outputs": [
    {
     "data": {
      "text/html": [
       "<table border='1'>\n",
       "<tr><th>VOTER_NAME</th></tr>\n",
       "<tr><td>Jennifer S. Gates</td></tr>\n",
       "<tr><td>Philip T. Kingston</td></tr>\n",
       "</table>\n"
      ],
      "text/plain": [
       "+------------------+\n",
       "|        VOTER_NAME|\n",
       "+------------------+\n",
       "| Jennifer S. Gates|\n",
       "|Philip T. Kingston|\n",
       "+------------------+"
      ]
     },
     "execution_count": 18,
     "metadata": {},
     "output_type": "execute_result"
    }
   ],
   "source": [
    "# Select\n",
    "voter_df.select(voter_df.VOTER_NAME).limit(2)"
   ]
  },
  {
   "cell_type": "code",
   "execution_count": 19,
   "id": "a80d8cbb-10b9-4762-909c-f27dafad2d46",
   "metadata": {},
   "outputs": [
    {
     "data": {
      "text/html": [
       "<table border='1'>\n",
       "<tr><th>DATE</th><th>TITLE</th><th>VOTER_NAME</th><th>YEAR</th></tr>\n",
       "<tr><td>2017-02-08</td><td>Councilmember</td><td>Jennifer S. Gates</td><td>2017</td></tr>\n",
       "<tr><td>2017-02-08</td><td>Councilmember</td><td>Philip T. Kingston</td><td>2017</td></tr>\n",
       "</table>\n"
      ],
      "text/plain": [
       "+----------+-------------+------------------+----+\n",
       "|      DATE|        TITLE|        VOTER_NAME|YEAR|\n",
       "+----------+-------------+------------------+----+\n",
       "|2017-02-08|Councilmember| Jennifer S. Gates|2017|\n",
       "|2017-02-08|Councilmember|Philip T. Kingston|2017|\n",
       "+----------+-------------+------------------+----+"
      ]
     },
     "execution_count": 19,
     "metadata": {},
     "output_type": "execute_result"
    }
   ],
   "source": [
    "# withColumn\n",
    "voter_df.withColumn('YEAR', F.year(voter_df.DATE)).limit(2)"
   ]
  },
  {
   "cell_type": "code",
   "execution_count": 20,
   "id": "ee9a9fa1-8a5f-4d0d-84cf-070d5c1e6d23",
   "metadata": {},
   "outputs": [
    {
     "data": {
      "text/html": [
       "<table border='1'>\n",
       "<tr><th>DATE</th><th>VOTER_NAME</th></tr>\n",
       "<tr><td>2017-02-08</td><td>Jennifer S. Gates</td></tr>\n",
       "<tr><td>2017-02-08</td><td>Philip T. Kingston</td></tr>\n",
       "</table>\n"
      ],
      "text/plain": [
       "+----------+------------------+\n",
       "|      DATE|        VOTER_NAME|\n",
       "+----------+------------------+\n",
       "|2017-02-08| Jennifer S. Gates|\n",
       "|2017-02-08|Philip T. Kingston|\n",
       "+----------+------------------+"
      ]
     },
     "execution_count": 20,
     "metadata": {},
     "output_type": "execute_result"
    }
   ],
   "source": [
    "# drop\n",
    "voter_df.drop('TITLE').limit(2)"
   ]
  },
  {
   "cell_type": "code",
   "execution_count": 21,
   "id": "42779796-0b75-464f-91ba-7292075e6d8d",
   "metadata": {},
   "outputs": [
    {
     "data": {
      "text/html": [
       "<table border='1'>\n",
       "<tr><th>DATE</th><th>TITLE</th><th>VOTER_NAME</th></tr>\n",
       "<tr><td>2017-02-08</td><td>Councilmember</td><td>Jennifer S. Gates</td></tr>\n",
       "<tr><td>2017-02-08</td><td>Councilmember</td><td>Philip T. Kingston</td></tr>\n",
       "</table>\n"
      ],
      "text/plain": [
       "+----------+-------------+------------------+\n",
       "|      DATE|        TITLE|        VOTER_NAME|\n",
       "+----------+-------------+------------------+\n",
       "|2017-02-08|Councilmember| Jennifer S. Gates|\n",
       "|2017-02-08|Councilmember|Philip T. Kingston|\n",
       "+----------+-------------+------------------+"
      ]
     },
     "execution_count": 21,
     "metadata": {},
     "output_type": "execute_result"
    }
   ],
   "source": [
    "# None transformation was applied until the result is asigned\n",
    "voter_df.limit(2)"
   ]
  },
  {
   "cell_type": "markdown",
   "id": "f3432702-24de-48df-98c5-2a8a64cb2158",
   "metadata": {},
   "source": [
    "### Filtering data\n",
    "\n",
    "- \n",
    "- \n",
    "- \n",
    "- Negate with ~"
   ]
  },
  {
   "cell_type": "code",
   "execution_count": 22,
   "id": "fee205c5-f7a5-45ea-abe7-4e28e33c4f4c",
   "metadata": {},
   "outputs": [
    {
     "data": {
      "text/html": [
       "<table border='1'>\n",
       "<tr><th>DATE</th><th>TITLE</th><th>VOTER_NAME</th></tr>\n",
       "<tr><td>2017-02-08</td><td>Councilmember</td><td>Jennifer S. Gates</td></tr>\n",
       "<tr><td>2017-02-08</td><td>Councilmember</td><td>Philip T. Kingston</td></tr>\n",
       "<tr><td>2017-02-08</td><td>Mayor</td><td>Michael S. Rawlings</td></tr>\n",
       "<tr><td>2017-02-08</td><td>Councilmember</td><td>Adam Medrano</td></tr>\n",
       "<tr><td>2017-02-08</td><td>Councilmember</td><td>Casey Thomas</td></tr>\n",
       "<tr><td>2017-02-08</td><td>Councilmember</td><td>Carolyn King Arnold</td></tr>\n",
       "<tr><td>2017-02-08</td><td>Councilmember</td><td>Scott Griggs</td></tr>\n",
       "<tr><td>2017-02-08</td><td>Councilmember</td><td>B. Adam  McGough</td></tr>\n",
       "<tr><td>2017-02-08</td><td>Councilmember</td><td>Lee Kleinman</td></tr>\n",
       "<tr><td>2017-02-08</td><td>Councilmember</td><td>Sandy Greyson</td></tr>\n",
       "<tr><td>2017-02-08</td><td>Councilmember</td><td>Jennifer S. Gates</td></tr>\n",
       "<tr><td>2017-02-08</td><td>Councilmember</td><td>Philip T. Kingston</td></tr>\n",
       "<tr><td>2017-02-08</td><td>Mayor</td><td>Michael S. Rawlings</td></tr>\n",
       "<tr><td>2017-02-08</td><td>Councilmember</td><td>Adam Medrano</td></tr>\n",
       "<tr><td>2017-02-08</td><td>Councilmember</td><td>Casey Thomas</td></tr>\n",
       "<tr><td>2017-02-08</td><td>Councilmember</td><td>Carolyn King Arnold</td></tr>\n",
       "<tr><td>2017-02-08</td><td>Councilmember</td><td>Rickey D. Callahan</td></tr>\n",
       "<tr><td>2017-01-11</td><td>Councilmember</td><td>Jennifer S. Gates</td></tr>\n",
       "<tr><td>2018-04-25</td><td>Councilmember</td><td>Sandy  Greyson</td></tr>\n",
       "<tr><td>2018-04-25</td><td>Councilmember</td><td>Jennifer S.  Gates</td></tr>\n",
       "</table>\n",
       "only showing top 20 rows\n"
      ],
      "text/plain": [
       "+----------+-------------+-------------------+\n",
       "|      DATE|        TITLE|         VOTER_NAME|\n",
       "+----------+-------------+-------------------+\n",
       "|2017-02-08|Councilmember|  Jennifer S. Gates|\n",
       "|2017-02-08|Councilmember| Philip T. Kingston|\n",
       "|2017-02-08|        Mayor|Michael S. Rawlings|\n",
       "|2017-02-08|Councilmember|       Adam Medrano|\n",
       "|2017-02-08|Councilmember|       Casey Thomas|\n",
       "|2017-02-08|Councilmember|Carolyn King Arnold|\n",
       "|2017-02-08|Councilmember|       Scott Griggs|\n",
       "|2017-02-08|Councilmember|   B. Adam  McGough|\n",
       "|2017-02-08|Councilmember|       Lee Kleinman|\n",
       "|2017-02-08|Councilmember|      Sandy Greyson|\n",
       "|2017-02-08|Councilmember|  Jennifer S. Gates|\n",
       "|2017-02-08|Councilmember| Philip T. Kingston|\n",
       "|2017-02-08|        Mayor|Michael S. Rawlings|\n",
       "|2017-02-08|Councilmember|       Adam Medrano|\n",
       "|2017-02-08|Councilmember|       Casey Thomas|\n",
       "|2017-02-08|Councilmember|Carolyn King Arnold|\n",
       "|2017-02-08|Councilmember| Rickey D. Callahan|\n",
       "|2017-01-11|Councilmember|  Jennifer S. Gates|\n",
       "|2018-04-25|Councilmember|     Sandy  Greyson|\n",
       "|2018-04-25|Councilmember| Jennifer S.  Gates|\n",
       "+----------+-------------+-------------------+\n",
       "only showing top 20 rows"
      ]
     },
     "execution_count": 22,
     "metadata": {},
     "output_type": "execute_result"
    }
   ],
   "source": [
    "# Remove nulls\n",
    "voter_df.filter(voter_df['VOTER_NAME'].isNotNull())"
   ]
  },
  {
   "cell_type": "code",
   "execution_count": 23,
   "id": "12d87491-9437-4c02-9a39-017e1d5f8a7a",
   "metadata": {},
   "outputs": [
    {
     "data": {
      "text/html": [
       "<table border='1'>\n",
       "<tr><th>DATE</th><th>TITLE</th><th>VOTER_NAME</th></tr>\n",
       "<tr><td>2017-02-08</td><td>Councilmember</td><td>Jennifer S. Gates</td></tr>\n",
       "<tr><td>2017-02-08</td><td>Councilmember</td><td>Philip T. Kingston</td></tr>\n",
       "</table>\n"
      ],
      "text/plain": [
       "+----------+-------------+------------------+\n",
       "|      DATE|        TITLE|        VOTER_NAME|\n",
       "+----------+-------------+------------------+\n",
       "|2017-02-08|Councilmember| Jennifer S. Gates|\n",
       "|2017-02-08|Councilmember|Philip T. Kingston|\n",
       "+----------+-------------+------------------+"
      ]
     },
     "execution_count": 23,
     "metadata": {},
     "output_type": "execute_result"
    }
   ],
   "source": [
    "# Comparissons\n",
    "voter_df.filter(F.year(voter_df.DATE) > 1800).limit(2)"
   ]
  },
  {
   "cell_type": "code",
   "execution_count": 24,
   "id": "34d9d45e-3a5d-4069-9722-be9f738e92c0",
   "metadata": {},
   "outputs": [
    {
     "data": {
      "text/html": [
       "<table border='1'>\n",
       "<tr><th>DATE</th><th>TITLE</th><th>VOTER_NAME</th></tr>\n",
       "<tr><td>2017-02-08</td><td>Mayor</td><td>Michael S. Rawlings</td></tr>\n",
       "<tr><td>2017-02-08</td><td>Mayor</td><td>Michael S. Rawlings</td></tr>\n",
       "</table>\n"
      ],
      "text/plain": [
       "+----------+-----+-------------------+\n",
       "|      DATE|TITLE|         VOTER_NAME|\n",
       "+----------+-----+-------------------+\n",
       "|2017-02-08|Mayor|Michael S. Rawlings|\n",
       "|2017-02-08|Mayor|Michael S. Rawlings|\n",
       "+----------+-----+-------------------+"
      ]
     },
     "execution_count": 24,
     "metadata": {},
     "output_type": "execute_result"
    }
   ],
   "source": [
    "# Text filters\n",
    "voter_df.where(voter_df['TITLE'].contains('Mayor')).limit(2)"
   ]
  },
  {
   "cell_type": "code",
   "execution_count": 25,
   "id": "192d7570-926a-449b-918d-53f42665f9d3",
   "metadata": {},
   "outputs": [
    {
     "data": {
      "text/html": [
       "<table border='1'>\n",
       "<tr><th>DATE</th><th>TITLE</th><th>VOTER_NAME</th></tr>\n",
       "<tr><td>2017-02-08</td><td>Councilmember</td><td>Jennifer S. Gates</td></tr>\n",
       "<tr><td>2017-02-08</td><td>Councilmember</td><td>Philip T. Kingston</td></tr>\n",
       "</table>\n"
      ],
      "text/plain": [
       "+----------+-------------+------------------+\n",
       "|      DATE|        TITLE|        VOTER_NAME|\n",
       "+----------+-------------+------------------+\n",
       "|2017-02-08|Councilmember| Jennifer S. Gates|\n",
       "|2017-02-08|Councilmember|Philip T. Kingston|\n",
       "+----------+-------------+------------------+"
      ]
     },
     "execution_count": 25,
     "metadata": {},
     "output_type": "execute_result"
    }
   ],
   "source": [
    "# Negate with ~\n",
    "voter_df.where(~ voter_df.TITLE.isNull()).limit(2)"
   ]
  },
  {
   "cell_type": "markdown",
   "id": "a5327d33-1956-4f31-ad82-0632c6893aed",
   "metadata": {},
   "source": [
    "### Column string transformations"
   ]
  },
  {
   "cell_type": "code",
   "execution_count": 26,
   "id": "f665e866-2ea7-4dc2-aac6-d337bede41b3",
   "metadata": {},
   "outputs": [
    {
     "data": {
      "text/html": [
       "<table border='1'>\n",
       "<tr><th>DATE</th><th>TITLE</th><th>VOTER_NAME</th><th>UPPER</th></tr>\n",
       "<tr><td>2017-02-08</td><td>Councilmember</td><td>Jennifer S. Gates</td><td>JENNIFER S. GATES</td></tr>\n",
       "<tr><td>2017-02-08</td><td>Councilmember</td><td>Philip T. Kingston</td><td>PHILIP T. KINGSTON</td></tr>\n",
       "</table>\n"
      ],
      "text/plain": [
       "+----------+-------------+------------------+------------------+\n",
       "|      DATE|        TITLE|        VOTER_NAME|             UPPER|\n",
       "+----------+-------------+------------------+------------------+\n",
       "|2017-02-08|Councilmember| Jennifer S. Gates| JENNIFER S. GATES|\n",
       "|2017-02-08|Councilmember|Philip T. Kingston|PHILIP T. KINGSTON|\n",
       "+----------+-------------+------------------+------------------+"
      ]
     },
     "execution_count": 26,
     "metadata": {},
     "output_type": "execute_result"
    }
   ],
   "source": [
    "# Applied per column as transformation\n",
    "voter_df.withColumn('UPPER', F.upper('VOTER_NAME')).limit(2)"
   ]
  },
  {
   "cell_type": "code",
   "execution_count": 27,
   "id": "d4147b77-d604-4a6c-bb0a-58dc625c39be",
   "metadata": {},
   "outputs": [
    {
     "data": {
      "text/html": [
       "<table border='1'>\n",
       "<tr><th>DATE</th><th>TITLE</th><th>VOTER_NAME</th><th>SPLITS</th></tr>\n",
       "<tr><td>2017-02-08</td><td>Councilmember</td><td>Jennifer S. Gates</td><td>[Jennifer, S., Ga...</td></tr>\n",
       "<tr><td>2017-02-08</td><td>Councilmember</td><td>Philip T. Kingston</td><td>[Philip, T., King...</td></tr>\n",
       "</table>\n"
      ],
      "text/plain": [
       "+----------+-------------+------------------+--------------------+\n",
       "|      DATE|        TITLE|        VOTER_NAME|              SPLITS|\n",
       "+----------+-------------+------------------+--------------------+\n",
       "|2017-02-08|Councilmember| Jennifer S. Gates|[Jennifer, S., Ga...|\n",
       "|2017-02-08|Councilmember|Philip T. Kingston|[Philip, T., King...|\n",
       "+----------+-------------+------------------+--------------------+"
      ]
     },
     "execution_count": 27,
     "metadata": {},
     "output_type": "execute_result"
    }
   ],
   "source": [
    "# Can create intermediary columns\n",
    "voter_df.withColumn('SPLITS', F.split('VOTER_NAME', ' ')).limit(2)"
   ]
  },
  {
   "cell_type": "code",
   "execution_count": 28,
   "id": "d76f8263-ca17-47f9-aa47-e2d301965230",
   "metadata": {},
   "outputs": [
    {
     "data": {
      "text/html": [
       "<table border='1'>\n",
       "<tr><th>DATE</th><th>TITLE</th><th>VOTER_NAME</th><th>YEAR</th></tr>\n",
       "<tr><td>2017-02-08</td><td>Councilmember</td><td>Jennifer S. Gates</td><td>2017.0</td></tr>\n",
       "<tr><td>2017-02-08</td><td>Councilmember</td><td>Philip T. Kingston</td><td>2017.0</td></tr>\n",
       "</table>\n"
      ],
      "text/plain": [
       "+----------+-------------+------------------+------+\n",
       "|      DATE|        TITLE|        VOTER_NAME|  YEAR|\n",
       "+----------+-------------+------------------+------+\n",
       "|2017-02-08|Councilmember| Jennifer S. Gates|2017.0|\n",
       "|2017-02-08|Councilmember|Philip T. Kingston|2017.0|\n",
       "+----------+-------------+------------------+------+"
      ]
     },
     "execution_count": 28,
     "metadata": {},
     "output_type": "execute_result"
    }
   ],
   "source": [
    "# Can cast to other types\n",
    "voter_df.withColumn('YEAR', F.year(voter_df.DATE).cast(FloatType())).limit(2)"
   ]
  },
  {
   "cell_type": "markdown",
   "id": "0ad84ca6-ef93-42af-8af4-cf5c88f0c16a",
   "metadata": {},
   "source": [
    "### ArrayType() column functions\n",
    "\n",
    "Various utility functions / transformations to interact with ArrayType()\n",
    "- `.size(<column>)` - returns length of arrayType() column\n",
    "- `.getItem(<index>)` - used to retrieve a specific item at index of list column."
   ]
  },
  {
   "cell_type": "code",
   "execution_count": 29,
   "id": "cffc8cc2-41bb-4843-9ffb-bc0cddd79c5c",
   "metadata": {},
   "outputs": [
    {
     "data": {
      "text/html": [
       "<table border='1'>\n",
       "<tr><th>DATE</th><th>TITLE</th><th>VOTER_NAME</th><th>LIST_NAME</th></tr>\n",
       "<tr><td>2017-02-08</td><td>Councilmember</td><td>Jennifer S. Gates</td><td>[Jennifer, S., Ga...</td></tr>\n",
       "<tr><td>2017-02-08</td><td>Councilmember</td><td>Philip T. Kingston</td><td>[Philip, T., King...</td></tr>\n",
       "</table>\n"
      ],
      "text/plain": [
       "+----------+-------------+------------------+--------------------+\n",
       "|      DATE|        TITLE|        VOTER_NAME|           LIST_NAME|\n",
       "+----------+-------------+------------------+--------------------+\n",
       "|2017-02-08|Councilmember| Jennifer S. Gates|[Jennifer, S., Ga...|\n",
       "|2017-02-08|Councilmember|Philip T. Kingston|[Philip, T., King...|\n",
       "+----------+-------------+------------------+--------------------+"
      ]
     },
     "execution_count": 29,
     "metadata": {},
     "output_type": "execute_result"
    }
   ],
   "source": [
    "voter_list_df = voter_df.withColumn('LIST_NAME', F.split('VOTER_NAME', ' '))\n",
    "voter_list_df.limit(2)"
   ]
  },
  {
   "cell_type": "code",
   "execution_count": 30,
   "id": "17b8c8ca-84d0-4d14-98ee-ed3ddfafc7e8",
   "metadata": {},
   "outputs": [
    {
     "data": {
      "text/html": [
       "<table border='1'>\n",
       "<tr><th>size(LIST_NAME)</th></tr>\n",
       "<tr><td>3</td></tr>\n",
       "<tr><td>3</td></tr>\n",
       "</table>\n"
      ],
      "text/plain": [
       "+---------------+\n",
       "|size(LIST_NAME)|\n",
       "+---------------+\n",
       "|              3|\n",
       "|              3|\n",
       "+---------------+"
      ]
     },
     "execution_count": 30,
     "metadata": {},
     "output_type": "execute_result"
    }
   ],
   "source": [
    "# length of arrayType() column\n",
    "voter_list_df.select(F.size('LIST_NAME')).limit(2)"
   ]
  },
  {
   "cell_type": "code",
   "execution_count": 31,
   "id": "83d6a4d7-b183-4444-94ad-01253d2ccc08",
   "metadata": {},
   "outputs": [
    {
     "data": {
      "text/html": [
       "<table border='1'>\n",
       "<tr><th>LIST_NAME[0]</th></tr>\n",
       "<tr><td>Jennifer</td></tr>\n",
       "<tr><td>Philip</td></tr>\n",
       "</table>\n"
      ],
      "text/plain": [
       "+------------+\n",
       "|LIST_NAME[0]|\n",
       "+------------+\n",
       "|    Jennifer|\n",
       "|      Philip|\n",
       "+------------+"
      ]
     },
     "execution_count": 31,
     "metadata": {},
     "output_type": "execute_result"
    }
   ],
   "source": [
    "# Retrieve a specific item at index of list column\n",
    "voter_list_df.select(voter_list_df.LIST_NAME.getItem(0)).limit(2)"
   ]
  },
  {
   "cell_type": "markdown",
   "id": "163a8a33-d870-435d-8bc1-ca67be56e4e5",
   "metadata": {},
   "source": [
    "## Ex. 1 - Filtering column content with Python\n",
    "\n",
    "You've looked at using various operations on DataFrame columns - now you can modify a real dataset. The DataFrame `voter_df` contains information regarding the voters on the Dallas City Council from the past few years. This truncated DataFrame contains the date of the vote being cast and the name and position of the voter. Your manager has asked you to clean this data so it can later be integrated into some desired reports. The primary task is to remove any null entries or odd characters and return a specific set of voters where you can validate their information.\n",
    "\n",
    "This is often one of the first steps in data cleaning - removing anything that is obviously outside the format. For this dataset, make sure to look at the original data and see what looks out of place for the `VOTER_NAME` column.\n",
    "\n",
    "**Instructions:**\n",
    "\n",
    "1. Show the distinct `VOTER_NAME` entries.\n",
    "2. Filter `voter_df` where the `VOTER_NAME` is 1-20 characters in length.\n",
    "3. Filter out `voter_df` where the `VOTER_NAME` contains an _.\n",
    "4. Show the distinct `VOTER_NAME` entries again."
   ]
  },
  {
   "cell_type": "code",
   "execution_count": 32,
   "id": "5c69463c-35f3-43c8-b32d-22f309785a61",
   "metadata": {},
   "outputs": [
    {
     "name": "stdout",
     "output_type": "stream",
     "text": [
      "+-------------------------------------------------------------------------------------------------------------------------------------------------------------------------------------------------------------------------------------------------------------------------------------------------------------------------------------------------------------------------------------------------------------+\n",
      "|VOTER_NAME                                                                                                                                                                                                                                                                                                                                                                                                   |\n",
      "+-------------------------------------------------------------------------------------------------------------------------------------------------------------------------------------------------------------------------------------------------------------------------------------------------------------------------------------------------------------------------------------------------------------+\n",
      "|Tennell Atkins                                                                                                                                                                                                                                                                                                                                                                                               |\n",
      "|  the  final   2018 Assessment Plan and the 2018 Assessment  Roll  (to  be  kept  on  file  with  the  City  Secretary);  establishing  classifications  for   the   apportionment   of   costs and the methods of assessing special assessments for the services and improvements to property in the District;  closing  the  hearing  and  levying  a  special  assessment  on  property  in  the  District|\n",
      "|Scott Griggs                                                                                                                                                                                                                                                                                                                                                                                                 |\n",
      "|Scott  Griggs                                                                                                                                                                                                                                                                                                                                                                                                |\n",
      "|Sandy Greyson                                                                                                                                                                                                                                                                                                                                                                                                |\n",
      "|Michael S. Rawlings                                                                                                                                                                                                                                                                                                                                                                                          |\n",
      "| the final 2018 Assessment Plan and the 2018 Assessment  Roll  (to  be  kept  on  file  with  the  City  Secretary);  establishing  classifications  for  the   apportionment   of   costs and  the  methods  of  assessing  special  assessments  on  Dallas  hotels  with    100 or more rooms                                                                                                             |\n",
      "|Kevin Felder                                                                                                                                                                                                                                                                                                                                                                                                 |\n",
      "|Adam Medrano                                                                                                                                                                                                                                                                                                                                                                                                 |\n",
      "|Casey  Thomas                                                                                                                                                                                                                                                                                                                                                                                                |\n",
      "+-------------------------------------------------------------------------------------------------------------------------------------------------------------------------------------------------------------------------------------------------------------------------------------------------------------------------------------------------------------------------------------------------------------+\n",
      "only showing top 10 rows\n",
      "\n"
     ]
    }
   ],
   "source": [
    "# Show the distinct VOTER_NAME entries\n",
    "voter_df.select('VOTER_NAME').distinct().show(10, truncate=False)"
   ]
  },
  {
   "cell_type": "code",
   "execution_count": 33,
   "id": "280088c0-a29e-4be9-a2a0-984cbb1807b8",
   "metadata": {},
   "outputs": [
    {
     "name": "stdout",
     "output_type": "stream",
     "text": [
      "+-------------------+\n",
      "|VOTER_NAME         |\n",
      "+-------------------+\n",
      "|Tennell Atkins     |\n",
      "|Scott Griggs       |\n",
      "|Scott  Griggs      |\n",
      "|Sandy Greyson      |\n",
      "|Michael S. Rawlings|\n",
      "|Kevin Felder       |\n",
      "|Adam Medrano       |\n",
      "|Casey  Thomas      |\n",
      "|Mark  Clayton      |\n",
      "|Casey Thomas       |\n",
      "|Sandy  Greyson     |\n",
      "|Mark Clayton       |\n",
      "|Jennifer S.  Gates |\n",
      "|Tiffinni A. Young  |\n",
      "|B. Adam  McGough   |\n",
      "|Omar Narvaez       |\n",
      "|Philip T. Kingston |\n",
      "|Rickey D. Callahan |\n",
      "|Dwaine R. Caraway  |\n",
      "|Philip T.  Kingston|\n",
      "|Jennifer S. Gates  |\n",
      "|Lee M. Kleinman    |\n",
      "|Monica R. Alonzo   |\n",
      "|Rickey D.  Callahan|\n",
      "|Carolyn King Arnold|\n",
      "|Erik Wilson        |\n",
      "|Lee Kleinman       |\n",
      "+-------------------+\n",
      "\n"
     ]
    }
   ],
   "source": [
    "# Filter voter_df where the VOTER_NAME is 1-20 characters in length\n",
    "voter_df = voter_df.filter('length(VOTER_NAME) > 0 and length(VOTER_NAME) < 20')\n",
    "\n",
    "# Filter out voter_df where the VOTER_NAME contains an underscore\n",
    "voter_df = voter_df.filter(~ F.col('VOTER_NAME').contains('_'))\n",
    "\n",
    "# Show the distinct VOTER_NAME entries again\n",
    "voter_df.select('VOTER_NAME').distinct().show(40, truncate=False)"
   ]
  },
  {
   "cell_type": "markdown",
   "id": "adcbf57d-b926-4128-92a3-2c34f8de32ad",
   "metadata": {},
   "source": [
    "## Ex. 2 - Modifying DataFrame columns\n",
    "\n",
    "Previously, you filtered out any rows that didn't conform to something generally resembling a name. Now based on your earlier work, your manager has asked you to create two new columns - `first_name` and `last_name`. She asks you to split the `VOTER_NAME` column into words on any space character. You'll treat the last word as the `last_name`, and all other words as the `first_name`. You'll be using some new functions in this exercise including `.split()`, `.size()`, and `.getItem()`. The `.getItem(index)` takes an integer value to return the appropriately numbered item in the column. The functions `.split()` and `.size()` are in the `pyspark.sql.functions` library.\n",
    "\n",
    "Please note that these operations are always somewhat specific to the use case. Having your data conform to a format often matters more than the specific details of the format. Rarely is a data cleaning task meant just for one person - matching a defined format allows for easier sharing of the data later (ie, Paul doesn't need to worry about names - Mary already cleaned the dataset).\n",
    "\n",
    "**Instructions:**\n",
    "\n",
    "1. Add a new column called `splits` holding the list of possible names.\n",
    "2. Use the `getItem()` method and create a new column called `first_name`.\n",
    "3. Get the last entry of the splits list and create a column called `last_name`.\n",
    "4. Drop the `splits` column and show the new `voter_df`."
   ]
  },
  {
   "cell_type": "code",
   "execution_count": 34,
   "id": "0147a50f-099e-49b8-8a3c-8683b68d9e5d",
   "metadata": {},
   "outputs": [
    {
     "data": {
      "text/html": [
       "<table border='1'>\n",
       "<tr><th>DATE</th><th>TITLE</th><th>VOTER_NAME</th></tr>\n",
       "<tr><td>2017-02-08</td><td>Councilmember</td><td>Jennifer S. Gates</td></tr>\n",
       "<tr><td>2017-02-08</td><td>Councilmember</td><td>Philip T. Kingston</td></tr>\n",
       "</table>\n"
      ],
      "text/plain": [
       "+----------+-------------+------------------+\n",
       "|      DATE|        TITLE|        VOTER_NAME|\n",
       "+----------+-------------+------------------+\n",
       "|2017-02-08|Councilmember| Jennifer S. Gates|\n",
       "|2017-02-08|Councilmember|Philip T. Kingston|\n",
       "+----------+-------------+------------------+"
      ]
     },
     "execution_count": 34,
     "metadata": {},
     "output_type": "execute_result"
    }
   ],
   "source": [
    "# Review the data\n",
    "voter_df.limit(2)"
   ]
  },
  {
   "cell_type": "code",
   "execution_count": 35,
   "id": "a240d5a4-3a1d-426b-a823-27b6467f1dfc",
   "metadata": {},
   "outputs": [
    {
     "data": {
      "text/html": [
       "<table border='1'>\n",
       "<tr><th>DATE</th><th>TITLE</th><th>VOTER_NAME</th><th>splits</th></tr>\n",
       "<tr><td>2017-02-08</td><td>Councilmember</td><td>Jennifer S. Gates</td><td>[Jennifer, S., Ga...</td></tr>\n",
       "<tr><td>2017-02-08</td><td>Councilmember</td><td>Philip T. Kingston</td><td>[Philip, T., King...</td></tr>\n",
       "</table>\n"
      ],
      "text/plain": [
       "+----------+-------------+------------------+--------------------+\n",
       "|      DATE|        TITLE|        VOTER_NAME|              splits|\n",
       "+----------+-------------+------------------+--------------------+\n",
       "|2017-02-08|Councilmember| Jennifer S. Gates|[Jennifer, S., Ga...|\n",
       "|2017-02-08|Councilmember|Philip T. Kingston|[Philip, T., King...|\n",
       "+----------+-------------+------------------+--------------------+"
      ]
     },
     "execution_count": 35,
     "metadata": {},
     "output_type": "execute_result"
    }
   ],
   "source": [
    "# Add a new column called splits separated on whitespace\n",
    "voter_df = voter_df.withColumn('splits', F.split(voter_df.VOTER_NAME, '\\s+'))\n",
    "voter_df.limit(2)"
   ]
  },
  {
   "cell_type": "code",
   "execution_count": 36,
   "id": "ecaa7566-081c-4fe5-8ae7-7084d4a2c8ac",
   "metadata": {},
   "outputs": [
    {
     "data": {
      "text/html": [
       "<table border='1'>\n",
       "<tr><th>DATE</th><th>TITLE</th><th>VOTER_NAME</th><th>splits</th><th>first_name</th></tr>\n",
       "<tr><td>2017-02-08</td><td>Councilmember</td><td>Jennifer S. Gates</td><td>[Jennifer, S., Ga...</td><td>Jennifer</td></tr>\n",
       "<tr><td>2017-02-08</td><td>Councilmember</td><td>Philip T. Kingston</td><td>[Philip, T., King...</td><td>Philip</td></tr>\n",
       "</table>\n"
      ],
      "text/plain": [
       "+----------+-------------+------------------+--------------------+----------+\n",
       "|      DATE|        TITLE|        VOTER_NAME|              splits|first_name|\n",
       "+----------+-------------+------------------+--------------------+----------+\n",
       "|2017-02-08|Councilmember| Jennifer S. Gates|[Jennifer, S., Ga...|  Jennifer|\n",
       "|2017-02-08|Councilmember|Philip T. Kingston|[Philip, T., King...|    Philip|\n",
       "+----------+-------------+------------------+--------------------+----------+"
      ]
     },
     "execution_count": 36,
     "metadata": {},
     "output_type": "execute_result"
    }
   ],
   "source": [
    "# Create a new column called first_name based on the first item in splits\n",
    "voter_df = voter_df.withColumn('first_name', voter_df.splits.getItem(0))\n",
    "voter_df.limit(2)"
   ]
  },
  {
   "cell_type": "code",
   "execution_count": 37,
   "id": "7a5af145-8ff3-4bce-b49b-1a06355cbf1e",
   "metadata": {},
   "outputs": [
    {
     "data": {
      "text/html": [
       "<table border='1'>\n",
       "<tr><th>DATE</th><th>TITLE</th><th>VOTER_NAME</th><th>splits</th><th>first_name</th><th>last_name</th></tr>\n",
       "<tr><td>2017-02-08</td><td>Councilmember</td><td>Jennifer S. Gates</td><td>[Jennifer, S., Ga...</td><td>Jennifer</td><td>Gates</td></tr>\n",
       "<tr><td>2017-02-08</td><td>Councilmember</td><td>Philip T. Kingston</td><td>[Philip, T., King...</td><td>Philip</td><td>Kingston</td></tr>\n",
       "</table>\n"
      ],
      "text/plain": [
       "+----------+-------------+------------------+--------------------+----------+---------+\n",
       "|      DATE|        TITLE|        VOTER_NAME|              splits|first_name|last_name|\n",
       "+----------+-------------+------------------+--------------------+----------+---------+\n",
       "|2017-02-08|Councilmember| Jennifer S. Gates|[Jennifer, S., Ga...|  Jennifer|    Gates|\n",
       "|2017-02-08|Councilmember|Philip T. Kingston|[Philip, T., King...|    Philip| Kingston|\n",
       "+----------+-------------+------------------+--------------------+----------+---------+"
      ]
     },
     "execution_count": 37,
     "metadata": {},
     "output_type": "execute_result"
    }
   ],
   "source": [
    "# Get the last entry of the splits list and create a column called last_name\n",
    "voter_df = voter_df.withColumn('last_name', voter_df.splits.getItem(F.size('splits') - 1))\n",
    "voter_df.limit(2)"
   ]
  },
  {
   "cell_type": "code",
   "execution_count": 38,
   "id": "607c11a5-a361-4850-aef6-230b57acc342",
   "metadata": {},
   "outputs": [
    {
     "data": {
      "text/html": [
       "<table border='1'>\n",
       "<tr><th>DATE</th><th>TITLE</th><th>VOTER_NAME</th><th>first_name</th><th>last_name</th></tr>\n",
       "<tr><td>2017-02-08</td><td>Councilmember</td><td>Jennifer S. Gates</td><td>Jennifer</td><td>Gates</td></tr>\n",
       "<tr><td>2017-02-08</td><td>Councilmember</td><td>Philip T. Kingston</td><td>Philip</td><td>Kingston</td></tr>\n",
       "</table>\n"
      ],
      "text/plain": [
       "+----------+-------------+------------------+----------+---------+\n",
       "|      DATE|        TITLE|        VOTER_NAME|first_name|last_name|\n",
       "+----------+-------------+------------------+----------+---------+\n",
       "|2017-02-08|Councilmember| Jennifer S. Gates|  Jennifer|    Gates|\n",
       "|2017-02-08|Councilmember|Philip T. Kingston|    Philip| Kingston|\n",
       "+----------+-------------+------------------+----------+---------+"
      ]
     },
     "execution_count": 38,
     "metadata": {},
     "output_type": "execute_result"
    }
   ],
   "source": [
    "# Drop the splits column\n",
    "voter_df = voter_df.drop('splits')\n",
    "\n",
    "# Show the voter_df DataFrame\n",
    "voter_df.limit(2)"
   ]
  },
  {
   "cell_type": "markdown",
   "id": "17deb0ca-2e2d-4eef-828a-d9dce4b8f6cf",
   "metadata": {},
   "source": [
    "## Conditional DataFrame column operations\n",
    "\n",
    "### .when() - Example\n",
    "\n",
    "`.when(<if condition>, <then x>)`"
   ]
  },
  {
   "cell_type": "code",
   "execution_count": 39,
   "id": "4dd4c05b-482d-4423-bf9a-0e0b5f20f88c",
   "metadata": {},
   "outputs": [
    {
     "data": {
      "text/html": [
       "<table border='1'>\n",
       "<tr><th>name</th><th>age</th><th>city</th></tr>\n",
       "<tr><td>Amy Meyer</td><td>3</td><td>Kimberlyborough</td></tr>\n",
       "<tr><td>Amy Jones</td><td>10</td><td>Davidburgh</td></tr>\n",
       "</table>\n"
      ],
      "text/plain": [
       "+---------+---+---------------+\n",
       "|     name|age|           city|\n",
       "+---------+---+---------------+\n",
       "|Amy Meyer|  3|Kimberlyborough|\n",
       "|Amy Jones| 10|     Davidburgh|\n",
       "+---------+---+---------------+"
      ]
     },
     "execution_count": 39,
     "metadata": {},
     "output_type": "execute_result"
    }
   ],
   "source": [
    "# Reviewing the data\n",
    "people.limit(2)"
   ]
  },
  {
   "cell_type": "code",
   "execution_count": 40,
   "id": "7d936853-3f2a-4b4c-8426-db84cd066ef7",
   "metadata": {},
   "outputs": [
    {
     "data": {
      "text/html": [
       "<table border='1'>\n",
       "<tr><th>name</th><th>age</th><th>CASE WHEN (age &gt;= 18) THEN Adult END</th></tr>\n",
       "<tr><td>Amy Meyer</td><td>3</td><td>NULL</td></tr>\n",
       "<tr><td>Amy Jones</td><td>10</td><td>NULL</td></tr>\n",
       "<tr><td>Erica King</td><td>39</td><td>Adult</td></tr>\n",
       "<tr><td>Lisa Wallace</td><td>6</td><td>NULL</td></tr>\n",
       "<tr><td>David Scott</td><td>67</td><td>Adult</td></tr>\n",
       "<tr><td>Barbara Owen</td><td>23</td><td>Adult</td></tr>\n",
       "<tr><td>Carlos Morgan</td><td>9</td><td>NULL</td></tr>\n",
       "<tr><td>Miguel Young</td><td>53</td><td>Adult</td></tr>\n",
       "<tr><td>Stephanie Moore</td><td>18</td><td>Adult</td></tr>\n",
       "<tr><td>Daniel Davidson</td><td>49</td><td>Adult</td></tr>\n",
       "</table>\n"
      ],
      "text/plain": [
       "+---------------+---+------------------------------------+\n",
       "|           name|age|CASE WHEN (age >= 18) THEN Adult END|\n",
       "+---------------+---+------------------------------------+\n",
       "|      Amy Meyer|  3|                                NULL|\n",
       "|      Amy Jones| 10|                                NULL|\n",
       "|     Erica King| 39|                               Adult|\n",
       "|   Lisa Wallace|  6|                                NULL|\n",
       "|    David Scott| 67|                               Adult|\n",
       "|   Barbara Owen| 23|                               Adult|\n",
       "|  Carlos Morgan|  9|                                NULL|\n",
       "|   Miguel Young| 53|                               Adult|\n",
       "|Stephanie Moore| 18|                               Adult|\n",
       "|Daniel Davidson| 49|                               Adult|\n",
       "+---------------+---+------------------------------------+"
      ]
     },
     "execution_count": 40,
     "metadata": {},
     "output_type": "execute_result"
    }
   ],
   "source": [
    "people.select(people.name, people.age, F.when(people.age >= 18, \"Adult\")).limit(10)"
   ]
  },
  {
   "cell_type": "code",
   "execution_count": 41,
   "id": "c9bee700-4c54-4c26-9a75-ecbc1c6b380e",
   "metadata": {},
   "outputs": [
    {
     "data": {
      "text/html": [
       "<table border='1'>\n",
       "<tr><th>name</th><th>age</th><th>age_group</th></tr>\n",
       "<tr><td>Amy Meyer</td><td>3</td><td>Minor</td></tr>\n",
       "<tr><td>Amy Jones</td><td>10</td><td>Minor</td></tr>\n",
       "<tr><td>Erica King</td><td>39</td><td>Adult</td></tr>\n",
       "<tr><td>Lisa Wallace</td><td>6</td><td>Minor</td></tr>\n",
       "<tr><td>David Scott</td><td>67</td><td>Adult</td></tr>\n",
       "<tr><td>Barbara Owen</td><td>23</td><td>Adult</td></tr>\n",
       "<tr><td>Carlos Morgan</td><td>9</td><td>Minor</td></tr>\n",
       "<tr><td>Miguel Young</td><td>53</td><td>Adult</td></tr>\n",
       "<tr><td>Stephanie Moore</td><td>18</td><td>Adult</td></tr>\n",
       "<tr><td>Daniel Davidson</td><td>49</td><td>Adult</td></tr>\n",
       "</table>\n"
      ],
      "text/plain": [
       "+---------------+---+---------+\n",
       "|           name|age|age_group|\n",
       "+---------------+---+---------+\n",
       "|      Amy Meyer|  3|    Minor|\n",
       "|      Amy Jones| 10|    Minor|\n",
       "|     Erica King| 39|    Adult|\n",
       "|   Lisa Wallace|  6|    Minor|\n",
       "|    David Scott| 67|    Adult|\n",
       "|   Barbara Owen| 23|    Adult|\n",
       "|  Carlos Morgan|  9|    Minor|\n",
       "|   Miguel Young| 53|    Adult|\n",
       "|Stephanie Moore| 18|    Adult|\n",
       "|Daniel Davidson| 49|    Adult|\n",
       "+---------------+---+---------+"
      ]
     },
     "execution_count": 41,
     "metadata": {},
     "output_type": "execute_result"
    }
   ],
   "source": [
    "(people.select(people.name, people.age,\n",
    "               F.when(people.age >= 18, \"Adult\")\n",
    "                .when(people.age < 18, \"Minor\").alias('age_group')).limit(10))"
   ]
  },
  {
   "cell_type": "markdown",
   "id": "80bc5496-6766-42cf-aacd-91bf1c656ba0",
   "metadata": {},
   "source": [
    "### .otherwise() - Example\n",
    "\n",
    "`.otherwise()` is like `else`"
   ]
  },
  {
   "cell_type": "code",
   "execution_count": 42,
   "id": "4528f6e6-8276-473a-91b8-f9094fd9ca10",
   "metadata": {},
   "outputs": [
    {
     "data": {
      "text/html": [
       "<table border='1'>\n",
       "<tr><th>name</th><th>age</th><th>age_group</th></tr>\n",
       "<tr><td>Amy Meyer</td><td>3</td><td>Minor</td></tr>\n",
       "<tr><td>Amy Jones</td><td>10</td><td>Minor</td></tr>\n",
       "<tr><td>Erica King</td><td>39</td><td>Adult</td></tr>\n",
       "<tr><td>Lisa Wallace</td><td>6</td><td>Minor</td></tr>\n",
       "<tr><td>David Scott</td><td>67</td><td>Adult</td></tr>\n",
       "<tr><td>Barbara Owen</td><td>23</td><td>Adult</td></tr>\n",
       "<tr><td>Carlos Morgan</td><td>9</td><td>Minor</td></tr>\n",
       "<tr><td>Miguel Young</td><td>53</td><td>Adult</td></tr>\n",
       "<tr><td>Stephanie Moore</td><td>18</td><td>Adult</td></tr>\n",
       "<tr><td>Daniel Davidson</td><td>49</td><td>Adult</td></tr>\n",
       "</table>\n"
      ],
      "text/plain": [
       "+---------------+---+---------+\n",
       "|           name|age|age_group|\n",
       "+---------------+---+---------+\n",
       "|      Amy Meyer|  3|    Minor|\n",
       "|      Amy Jones| 10|    Minor|\n",
       "|     Erica King| 39|    Adult|\n",
       "|   Lisa Wallace|  6|    Minor|\n",
       "|    David Scott| 67|    Adult|\n",
       "|   Barbara Owen| 23|    Adult|\n",
       "|  Carlos Morgan|  9|    Minor|\n",
       "|   Miguel Young| 53|    Adult|\n",
       "|Stephanie Moore| 18|    Adult|\n",
       "|Daniel Davidson| 49|    Adult|\n",
       "+---------------+---+---------+"
      ]
     },
     "execution_count": 42,
     "metadata": {},
     "output_type": "execute_result"
    }
   ],
   "source": [
    "(people.select(people.name, people.age,\n",
    "               F.when(people.age >= 18, \"Adult\")\n",
    "                .otherwise(\"Minor\").alias('age_group')).limit(10))"
   ]
  },
  {
   "cell_type": "markdown",
   "id": "b995a71c-3224-4696-b349-14580043b2e7",
   "metadata": {},
   "source": [
    "## Ex. 3 - when() example\n",
    "\n",
    "The `when()` clause lets you conditionally modify a Data Frame based on its content. You'll want to modify our `voter_df` DataFrame to add a random number to any voting member that is defined as a `\"Councilmember\"`.\n",
    "\n",
    "The `voter_df` DataFrame is defined and available to you. The `pyspark.sql.functions` library is available as `F`. You can use `F.rand()` to generate the random value.\n",
    "\n",
    "**Instructions:**\n",
    "\n",
    "1. Add a column to `voter_df` named `random_val` with the results of the `F.rand()` method for any voter with the title `Councilmember`.\n",
    "2. Show some of the DataFrame rows, noting whether the `.when()` clause worked."
   ]
  },
  {
   "cell_type": "code",
   "execution_count": 43,
   "id": "38eab248-9b85-4471-ae64-4900f536326e",
   "metadata": {},
   "outputs": [
    {
     "name": "stdout",
     "output_type": "stream",
     "text": [
      "+----------+-------------+-------------------+\n",
      "|      DATE|        TITLE|         VOTER_NAME|\n",
      "+----------+-------------+-------------------+\n",
      "|2017-02-08|Councilmember|  Jennifer S. Gates|\n",
      "|2017-02-08|Councilmember| Philip T. Kingston|\n",
      "|2017-02-08|        Mayor|Michael S. Rawlings|\n",
      "|2017-02-08|Councilmember|       Adam Medrano|\n",
      "|2017-02-08|Councilmember|       Casey Thomas|\n",
      "+----------+-------------+-------------------+\n",
      "\n"
     ]
    }
   ],
   "source": [
    "# Review the data\n",
    "voter_df = dallas_electors.select('*')\n",
    "voter_df.limit(5).show()"
   ]
  },
  {
   "cell_type": "code",
   "execution_count": 44,
   "id": "c6adcd12-2492-4dc2-a270-8d71af6671f4",
   "metadata": {},
   "outputs": [
    {
     "name": "stdout",
     "output_type": "stream",
     "text": [
      "+----------+-------------+-------------------+-------------------+\n",
      "|      DATE|        TITLE|         VOTER_NAME|         random_val|\n",
      "+----------+-------------+-------------------+-------------------+\n",
      "|2017-02-08|Councilmember|  Jennifer S. Gates|0.44786287320866003|\n",
      "|2017-02-08|Councilmember| Philip T. Kingston|0.23237691159717644|\n",
      "|2017-02-08|        Mayor|Michael S. Rawlings|               NULL|\n",
      "|2017-02-08|Councilmember|       Adam Medrano| 0.9921199713223674|\n",
      "|2017-02-08|Councilmember|       Casey Thomas|  0.928410906392597|\n",
      "+----------+-------------+-------------------+-------------------+\n",
      "\n"
     ]
    }
   ],
   "source": [
    "# Add a column to voter_df for any voter with the title **Councilmember**\n",
    "voter_df = voter_df.withColumn('random_val',\n",
    "                               F.when(voter_df.TITLE=='Councilmember', F.rand()))\n",
    "\n",
    "# Show some of the DataFrame rows, noting whether the when clause worked\n",
    "voter_df.limit(5).show()"
   ]
  },
  {
   "cell_type": "markdown",
   "id": "59af872f-c60c-4da1-868a-91075651e80a",
   "metadata": {},
   "source": [
    "## Ex. 4 - When / Otherwise\n",
    "\n",
    "This requirement is similar to the last, but now you want to add multiple values based on the voter's position. Modify your `voter_df` DataFrame to add a random number to any voting member that is defined as a `Councilmember`. Use `2` for the `Mayor` and `0` for anything other position.\n",
    "\n",
    "**Instructions:**\n",
    "\n",
    "1. Add a column to `voter_df` named `random_val` with the results of the `F.rand()` method for any voter with the title `Councilmember`. Set `random_val` to `2` for the `Mayor`. Set any other title to the value `0`.\n",
    "2. Show some of the Data Frame rows, noting whether the clauses worked.\n",
    "3. Use the `.filter` clause to find `0` in `random_val`."
   ]
  },
  {
   "cell_type": "code",
   "execution_count": 45,
   "id": "689ad731-bc4c-47cf-b125-26e39fd52a1d",
   "metadata": {},
   "outputs": [
    {
     "name": "stdout",
     "output_type": "stream",
     "text": [
      "+----------+-------------+-------------------+\n",
      "|      DATE|        TITLE|         VOTER_NAME|\n",
      "+----------+-------------+-------------------+\n",
      "|2017-02-08|Councilmember|  Jennifer S. Gates|\n",
      "|2017-02-08|Councilmember| Philip T. Kingston|\n",
      "|2017-02-08|        Mayor|Michael S. Rawlings|\n",
      "|2017-02-08|Councilmember|       Adam Medrano|\n",
      "|2017-02-08|Councilmember|       Casey Thomas|\n",
      "+----------+-------------+-------------------+\n",
      "\n"
     ]
    }
   ],
   "source": [
    "# Review the data\n",
    "voter_df = dallas_electors.select('*')\n",
    "voter_df.limit(5).show()"
   ]
  },
  {
   "cell_type": "code",
   "execution_count": 46,
   "id": "632adab7-00c8-4fa2-8c0d-9730f3c196e4",
   "metadata": {},
   "outputs": [
    {
     "name": "stdout",
     "output_type": "stream",
     "text": [
      "+----------+-------------+-------------------+-------------------+\n",
      "|      DATE|        TITLE|         VOTER_NAME|         random_val|\n",
      "+----------+-------------+-------------------+-------------------+\n",
      "|2017-02-08|Councilmember|  Jennifer S. Gates|0.16877539463120927|\n",
      "|2017-02-08|Councilmember| Philip T. Kingston| 0.9714536022490057|\n",
      "|2017-02-08|        Mayor|Michael S. Rawlings|                2.0|\n",
      "|2017-02-08|Councilmember|       Adam Medrano| 0.5821056095556317|\n",
      "|2017-02-08|Councilmember|       Casey Thomas| 0.7860954514113107|\n",
      "+----------+-------------+-------------------+-------------------+\n",
      "\n"
     ]
    }
   ],
   "source": [
    "# Add a column to voter_df for a voter based on their position\n",
    "voter_df = voter_df.withColumn('random_val',\n",
    "                               F.when(voter_df.TITLE == 'Councilmember', F.rand())\n",
    "                                .when(voter_df.TITLE == 'Mayor', 2)\n",
    "                                .otherwise(0))\n",
    "\n",
    "# Show some of the DataFrame rows\n",
    "voter_df.limit(5).show()"
   ]
  },
  {
   "cell_type": "code",
   "execution_count": 47,
   "id": "f23bd619-6459-460b-af55-972e53a616b2",
   "metadata": {},
   "outputs": [
    {
     "name": "stdout",
     "output_type": "stream",
     "text": [
      "+----------+--------------------+-----------------+----------+\n",
      "|      DATE|               TITLE|       VOTER_NAME|random_val|\n",
      "+----------+--------------------+-----------------+----------+\n",
      "|2018-04-25|Deputy Mayor Pro Tem|     Adam Medrano|       0.0|\n",
      "|2018-04-25|       Mayor Pro Tem|Dwaine R. Caraway|       0.0|\n",
      "|2018-06-20|Deputy Mayor Pro Tem|     Adam Medrano|       0.0|\n",
      "|2018-06-20|       Mayor Pro Tem|Dwaine R. Caraway|       0.0|\n",
      "|2018-06-20|Deputy Mayor Pro Tem|     Adam Medrano|       0.0|\n",
      "+----------+--------------------+-----------------+----------+\n",
      "\n"
     ]
    }
   ],
   "source": [
    "# Use the .filter() clause with random_val\n",
    "voter_df.filter(voter_df.random_val == 0).limit(5).show()"
   ]
  },
  {
   "cell_type": "markdown",
   "id": "4161fc86-9f38-4c5c-af12-80160b1b2284",
   "metadata": {},
   "source": [
    "## User defined functions\n",
    "\n",
    "User defined functions or UDFs\n",
    "- Python method\n",
    "- Wrapped via the `pyspark.sql.functions.udf` method\n",
    "- Stored as a variable\n",
    "- Called like a normal Spark function\n",
    "\n",
    "### Reverse string UDF - Example"
   ]
  },
  {
   "cell_type": "code",
   "execution_count": 48,
   "id": "0b4de791-ed4b-42ee-913e-babb08bb15d3",
   "metadata": {},
   "outputs": [
    {
     "data": {
      "text/html": [
       "<table border='1'>\n",
       "<tr><th>name</th><th>age</th><th>city</th></tr>\n",
       "<tr><td>Amy Meyer</td><td>3</td><td>Kimberlyborough</td></tr>\n",
       "<tr><td>Amy Jones</td><td>10</td><td>Davidburgh</td></tr>\n",
       "</table>\n"
      ],
      "text/plain": [
       "+---------+---+---------------+\n",
       "|     name|age|           city|\n",
       "+---------+---+---------------+\n",
       "|Amy Meyer|  3|Kimberlyborough|\n",
       "|Amy Jones| 10|     Davidburgh|\n",
       "+---------+---+---------------+"
      ]
     },
     "execution_count": 48,
     "metadata": {},
     "output_type": "execute_result"
    }
   ],
   "source": [
    "# Review the data\n",
    "people.limit(2)"
   ]
  },
  {
   "cell_type": "code",
   "execution_count": 49,
   "id": "b8446bed-a2c9-42bd-859f-9f474fba24eb",
   "metadata": {},
   "outputs": [
    {
     "data": {
      "text/html": [
       "<table border='1'>\n",
       "<tr><th>name</th><th>age</th><th>city</th><th>reversed_name</th></tr>\n",
       "<tr><td>Amy Meyer</td><td>3</td><td>Kimberlyborough</td><td>reyeM ymA</td></tr>\n",
       "<tr><td>Amy Jones</td><td>10</td><td>Davidburgh</td><td>senoJ ymA</td></tr>\n",
       "</table>\n"
      ],
      "text/plain": [
       "+---------+---+---------------+-------------+\n",
       "|     name|age|           city|reversed_name|\n",
       "+---------+---+---------------+-------------+\n",
       "|Amy Meyer|  3|Kimberlyborough|    reyeM ymA|\n",
       "|Amy Jones| 10|     Davidburgh|    senoJ ymA|\n",
       "+---------+---+---------------+-------------+"
      ]
     },
     "execution_count": 49,
     "metadata": {},
     "output_type": "execute_result"
    }
   ],
   "source": [
    "# Define a Python method\n",
    "def reverseString(mystr: str) -> str:\n",
    "    '''Return a reversed string, ex. Hola --> aloH'''\n",
    "    return mystr[::-1]\n",
    "\n",
    "# Wrap the function and store as a variable\n",
    "udfReverseString = F.udf(reverseString, StringType())\n",
    "\n",
    "# Use with Spark\n",
    "people.withColumn('reversed_name', udfReverseString(people.name)).limit(2)"
   ]
  },
  {
   "cell_type": "markdown",
   "id": "63fe824f-3639-4375-90d5-5ca01fe7ed24",
   "metadata": {},
   "source": [
    "### Argument-less example"
   ]
  },
  {
   "cell_type": "code",
   "execution_count": 50,
   "id": "0f070167-45bd-42f4-ba99-da3f5dbad1fd",
   "metadata": {},
   "outputs": [
    {
     "data": {
      "text/html": [
       "<table border='1'>\n",
       "<tr><th>name</th><th>age</th><th>city</th><th>Class</th></tr>\n",
       "<tr><td>Amy Meyer</td><td>3</td><td>Kimberlyborough</td><td>G</td></tr>\n",
       "<tr><td>Amy Jones</td><td>10</td><td>Davidburgh</td><td>S</td></tr>\n",
       "</table>\n"
      ],
      "text/plain": [
       "+---------+---+---------------+-----+\n",
       "|     name|age|           city|Class|\n",
       "+---------+---+---------------+-----+\n",
       "|Amy Meyer|  3|Kimberlyborough|    S|\n",
       "|Amy Jones| 10|     Davidburgh|    H|\n",
       "+---------+---+---------------+-----+"
      ]
     },
     "execution_count": 50,
     "metadata": {},
     "output_type": "execute_result"
    }
   ],
   "source": [
    "# Define a Python method\n",
    "def sortingCap() -> str:\n",
    "    '''Return a random letter from the list ['G', 'H', 'R', 'S']'''\n",
    "    return random.choice(['G', 'H', 'R', 'S'])\n",
    "\n",
    "# Wrap the function and store as a variable\n",
    "udfSortingCap = F.udf(sortingCap, StringType())\n",
    "\n",
    "# Use with Spark\n",
    "people.withColumn('Class', udfSortingCap()).limit(2)"
   ]
  },
  {
   "cell_type": "markdown",
   "id": "922e3e32-24ab-4d68-9edb-b89bc5671140",
   "metadata": {},
   "source": [
    "## Ex. 5 - Using user defined functions in Spark\n",
    "\n",
    "You've seen some of the power behind Spark's built-in string functions when it comes to manipulating DataFrames. However, once you reach a certain point, it becomes difficult to process the data in a without creating a rat's nest of function calls. Here's one place where you can use User Defined Functions to manipulate our DataFrames.\n",
    "\n",
    "For this exercise, we'll use our `voter_df` DataFrame, but you're going to replace the `first_name` column with the `first` and `middle names`.\n",
    "\n",
    "**Instructions:**\n",
    "\n",
    "1. Edit the `getFirstAndMiddle()` function to return a space separated string of names, except the last entry in the names list.\n",
    "2. Define the function as a user-defined function. It should return a string type.\n",
    "3. Create a new column on `voter_df` called `first_and_middle_name` using your UDF.\n",
    "4. Show the Data Frame."
   ]
  },
  {
   "cell_type": "code",
   "execution_count": 51,
   "id": "78759db4-52ec-448c-ad99-b204b5840df2",
   "metadata": {},
   "outputs": [
    {
     "data": {
      "text/html": [
       "<table border='1'>\n",
       "<tr><th>DATE</th><th>TITLE</th><th>VOTER_NAME</th><th>splits</th><th>first_name</th><th>last_name</th></tr>\n",
       "<tr><td>2017-02-08</td><td>Councilmember</td><td>Jennifer S. Gates</td><td>[Jennifer, S., Ga...</td><td>Jennifer</td><td>Gates</td></tr>\n",
       "<tr><td>2017-02-08</td><td>Councilmember</td><td>Philip T. Kingston</td><td>[Philip, T., King...</td><td>Philip</td><td>Kingston</td></tr>\n",
       "</table>\n"
      ],
      "text/plain": [
       "+----------+-------------+------------------+--------------------+----------+---------+\n",
       "|      DATE|        TITLE|        VOTER_NAME|              splits|first_name|last_name|\n",
       "+----------+-------------+------------------+--------------------+----------+---------+\n",
       "|2017-02-08|Councilmember| Jennifer S. Gates|[Jennifer, S., Ga...|  Jennifer|    Gates|\n",
       "|2017-02-08|Councilmember|Philip T. Kingston|[Philip, T., King...|    Philip| Kingston|\n",
       "+----------+-------------+------------------+--------------------+----------+---------+"
      ]
     },
     "execution_count": 51,
     "metadata": {},
     "output_type": "execute_result"
    }
   ],
   "source": [
    "# Review the data\n",
    "voter_df = dallas_electors.select('*')\n",
    "voter_df = voter_df.withColumn('splits', F.split(voter_df.VOTER_NAME, '\\s+'))\n",
    "voter_df = voter_df.withColumn('first_name', voter_df.splits.getItem(0))\n",
    "voter_df = voter_df.withColumn('last_name', voter_df.splits.getItem(F.size('splits') - 1))\n",
    "voter_df.limit(2)"
   ]
  },
  {
   "cell_type": "code",
   "execution_count": 52,
   "id": "7cfa6e44-006e-464e-a2c5-07d1b8a92dc6",
   "metadata": {},
   "outputs": [
    {
     "data": {
      "text/html": [
       "<table border='1'>\n",
       "<tr><th>DATE</th><th>TITLE</th><th>VOTER_NAME</th><th>splits</th><th>first_name</th><th>last_name</th><th>first_and_middle_name</th></tr>\n",
       "<tr><td>2017-02-08</td><td>Councilmember</td><td>Jennifer S. Gates</td><td>[Jennifer, S., Ga...</td><td>Jennifer</td><td>Gates</td><td>Jennifer S.</td></tr>\n",
       "<tr><td>2017-02-08</td><td>Councilmember</td><td>Philip T. Kingston</td><td>[Philip, T., King...</td><td>Philip</td><td>Kingston</td><td>Philip T.</td></tr>\n",
       "</table>\n"
      ],
      "text/plain": [
       "+----------+-------------+------------------+--------------------+----------+---------+---------------------+\n",
       "|      DATE|        TITLE|        VOTER_NAME|              splits|first_name|last_name|first_and_middle_name|\n",
       "+----------+-------------+------------------+--------------------+----------+---------+---------------------+\n",
       "|2017-02-08|Councilmember| Jennifer S. Gates|[Jennifer, S., Ga...|  Jennifer|    Gates|          Jennifer S.|\n",
       "|2017-02-08|Councilmember|Philip T. Kingston|[Philip, T., King...|    Philip| Kingston|            Philip T.|\n",
       "+----------+-------------+------------------+--------------------+----------+---------+---------------------+"
      ]
     },
     "execution_count": 52,
     "metadata": {},
     "output_type": "execute_result"
    }
   ],
   "source": [
    "# Define a Python method\n",
    "def getFirstAndMiddle(names: List) -> str:\n",
    "  '''Return a space separated string of names except the last one'''\n",
    "  return ' '.join(names[:-1])\n",
    "\n",
    "# Define the method as a UDF\n",
    "udfFirstAndMiddle = F.udf(getFirstAndMiddle, StringType())\n",
    "\n",
    "# Create a new column using your UDF\n",
    "voter_df = voter_df.withColumn('first_and_middle_name', udfFirstAndMiddle(voter_df.splits))\n",
    "\n",
    "# Show the DataFrame\n",
    "voter_df.limit(2)"
   ]
  },
  {
   "cell_type": "markdown",
   "id": "e1780653-b659-4e0a-8946-c4b9cd69ffef",
   "metadata": {},
   "source": [
    "## Partitioning and lazy processing\n",
    "\n",
    "### Monotonically increasing IDs\n",
    "\n",
    "`pyspark.sql.functions.monotonically_increasing_id()`\n",
    "\n",
    "- Integer (64-bit), increases in value, unique\n",
    "- Not necessarily sequential (gaps exist)\n",
    "- Completely parallel"
   ]
  },
  {
   "cell_type": "code",
   "execution_count": 53,
   "id": "d55a672a-6f51-4e7e-9742-be47729a7b38",
   "metadata": {},
   "outputs": [
    {
     "data": {
      "text/html": [
       "<table border='1'>\n",
       "<tr><th>name</th><th>age</th><th>city</th></tr>\n",
       "<tr><td>Amy Meyer</td><td>3</td><td>Kimberlyborough</td></tr>\n",
       "<tr><td>Amy Jones</td><td>10</td><td>Davidburgh</td></tr>\n",
       "</table>\n"
      ],
      "text/plain": [
       "+---------+---+---------------+\n",
       "|     name|age|           city|\n",
       "+---------+---+---------------+\n",
       "|Amy Meyer|  3|Kimberlyborough|\n",
       "|Amy Jones| 10|     Davidburgh|\n",
       "+---------+---+---------------+"
      ]
     },
     "execution_count": 53,
     "metadata": {},
     "output_type": "execute_result"
    }
   ],
   "source": [
    "# Review the data\n",
    "people.limit(2)"
   ]
  },
  {
   "cell_type": "code",
   "execution_count": 54,
   "id": "312559a3-3a4f-4248-ab92-a2e84166db84",
   "metadata": {},
   "outputs": [
    {
     "data": {
      "text/html": [
       "<table border='1'>\n",
       "<tr><th>name</th><th>age</th><th>city</th><th>id</th></tr>\n",
       "<tr><td>Amy Meyer</td><td>3</td><td>Kimberlyborough</td><td>1</td></tr>\n",
       "<tr><td>Amy Jones</td><td>10</td><td>Davidburgh</td><td>2</td></tr>\n",
       "<tr><td>Erica King</td><td>39</td><td>Kerrchester</td><td>3</td></tr>\n",
       "<tr><td>Lisa Wallace</td><td>6</td><td>Port Lauren</td><td>4</td></tr>\n",
       "<tr><td>David Scott</td><td>67</td><td>South Tonyaside</td><td>5</td></tr>\n",
       "</table>\n"
      ],
      "text/plain": [
       "+------------+---+---------------+---+\n",
       "|        name|age|           city| id|\n",
       "+------------+---+---------------+---+\n",
       "|   Amy Meyer|  3|Kimberlyborough|  1|\n",
       "|   Amy Jones| 10|     Davidburgh|  2|\n",
       "|  Erica King| 39|    Kerrchester|  3|\n",
       "|Lisa Wallace|  6|    Port Lauren|  4|\n",
       "| David Scott| 67|South Tonyaside|  5|\n",
       "+------------+---+---------------+---+"
      ]
     },
     "execution_count": 54,
     "metadata": {},
     "output_type": "execute_result"
    }
   ],
   "source": [
    "# Adding ID column\n",
    "people.withColumn('id', F.monotonically_increasing_id() + 1).limit(5)"
   ]
  },
  {
   "cell_type": "markdown",
   "id": "f1090fdf-f313-43c0-9f54-118aa76454b8",
   "metadata": {},
   "source": [
    "## Ex. 6 - Adding an ID Field\n",
    "\n",
    "When working with data, you sometimes only want to access certain fields and perform various operations. In this case, find all the unique voter names from the DataFrame and add a unique ID number. Remember that Spark IDs are assigned based on the DataFrame partition - as such the ID values may be much greater than the actual number of rows in the DataFrame.\n",
    "\n",
    "With Spark's lazy processing, the IDs are not actually generated until an action is performed and can be somewhat random depending on the size of the dataset.\n",
    "\n",
    "**Instructions:**\n",
    "\n",
    "1. Select the unique entries from the column `VOTER NAME` and create a new DataFrame called `voter_df`.\n",
    "2. Count the rows in the `voter_df` DataFrame.\n",
    "3. Add a `ROW_ID` column using the appropriate Spark function.\n",
    "4. Show the rows with the 10 highest `ROW_ID`s."
   ]
  },
  {
   "cell_type": "code",
   "execution_count": 55,
   "id": "6a25a901-c6af-4d9f-a19a-447b27b742c1",
   "metadata": {},
   "outputs": [
    {
     "data": {
      "text/html": [
       "<table border='1'>\n",
       "<tr><th>DATE</th><th>AGENDA_ITEM_NUMBER</th><th>ITEM_TYPE</th><th>DISTRICT</th><th>TITLE</th><th>VOTER NAME</th><th>VOTE CAST</th><th>FINAL ACTION TAKEN</th><th>AGENDA ITEM DESCRIPTION</th><th>AGENDA_ID</th><th>VOTE_ID</th></tr>\n",
       "<tr><td>2017-02-08</td><td>1</td><td>AGENDA</td><td>13</td><td>Councilmember</td><td>Jennifer S. Gates</td><td>N/A</td><td>NO ACTION NEEDED</td><td>Call to Order</td><td>020817__Special__1</td><td>020817__Special__...</td></tr>\n",
       "<tr><td>2017-02-08</td><td>1</td><td>AGENDA</td><td>14</td><td>Councilmember</td><td>Philip T. Kingston</td><td>N/A</td><td>NO ACTION NEEDED</td><td>Call to Order</td><td>020817__Special__1</td><td>020817__Special__...</td></tr>\n",
       "</table>\n"
      ],
      "text/plain": [
       "+----------+------------------+---------+--------+-------------+------------------+---------+------------------+-----------------------+------------------+--------------------+\n",
       "|      DATE|AGENDA_ITEM_NUMBER|ITEM_TYPE|DISTRICT|        TITLE|        VOTER NAME|VOTE CAST|FINAL ACTION TAKEN|AGENDA ITEM DESCRIPTION|         AGENDA_ID|             VOTE_ID|\n",
       "+----------+------------------+---------+--------+-------------+------------------+---------+------------------+-----------------------+------------------+--------------------+\n",
       "|2017-02-08|                 1|   AGENDA|      13|Councilmember| Jennifer S. Gates|      N/A|  NO ACTION NEEDED|          Call to Order|020817__Special__1|020817__Special__...|\n",
       "|2017-02-08|                 1|   AGENDA|      14|Councilmember|Philip T. Kingston|      N/A|  NO ACTION NEEDED|          Call to Order|020817__Special__1|020817__Special__...|\n",
       "+----------+------------------+---------+--------+-------------+------------------+---------+------------------+-----------------------+------------------+--------------------+"
      ]
     },
     "execution_count": 55,
     "metadata": {},
     "output_type": "execute_result"
    }
   ],
   "source": [
    "# Review the data\n",
    "voter_df = dallas_votes.select('*')\n",
    "voter_df.limit(2)"
   ]
  },
  {
   "cell_type": "code",
   "execution_count": 56,
   "id": "53952790-c8fc-451c-8d52-9b6d3e0efe57",
   "metadata": {},
   "outputs": [
    {
     "name": "stdout",
     "output_type": "stream",
     "text": [
      "\n",
      "There are 36 rows in the voter_df DataFrame.\n",
      "\n"
     ]
    },
    {
     "data": {
      "text/html": [
       "<table border='1'>\n",
       "<tr><th>VOTER NAME</th><th>ROW_ID</th></tr>\n",
       "<tr><td>Tennell Atkins</td><td>1</td></tr>\n",
       "<tr><td>  the  final   20...</td><td>2</td></tr>\n",
       "</table>\n"
      ],
      "text/plain": [
       "+--------------------+------+\n",
       "|          VOTER NAME|ROW_ID|\n",
       "+--------------------+------+\n",
       "|      Tennell Atkins|     1|\n",
       "|  the  final   20...|     2|\n",
       "+--------------------+------+"
      ]
     },
     "execution_count": 56,
     "metadata": {},
     "output_type": "execute_result"
    }
   ],
   "source": [
    "# Select all the unique council voters\n",
    "voter_df = voter_df.select(voter_df[\"VOTER NAME\"]).distinct()\n",
    "\n",
    "# Count the rows in voter_df\n",
    "print(\"\\nThere are %d rows in the voter_df DataFrame.\\n\" % voter_df.count())\n",
    "\n",
    "# Add a ROW_ID\n",
    "voter_df = voter_df.withColumn('ROW_ID', F.monotonically_increasing_id() + 1)\n",
    "voter_df.limit(2)"
   ]
  },
  {
   "cell_type": "code",
   "execution_count": 57,
   "id": "09d0ef4c-7f1d-4757-a6c8-7dd898dcf6a5",
   "metadata": {},
   "outputs": [
    {
     "data": {
      "text/html": [
       "<table border='1'>\n",
       "<tr><th>VOTER NAME</th><th>ROW_ID</th></tr>\n",
       "<tr><td>NULL</td><td>36</td></tr>\n",
       "<tr><td>Lee Kleinman</td><td>35</td></tr>\n",
       "<tr><td>  the  final  201...</td><td>34</td></tr>\n",
       "<tr><td>Erik Wilson</td><td>33</td></tr>\n",
       "<tr><td>  the  final   20...</td><td>32</td></tr>\n",
       "<tr><td>Carolyn King Arnold</td><td>31</td></tr>\n",
       "<tr><td>Rickey D.  Callahan</td><td>30</td></tr>\n",
       "<tr><td>   the   final  2...</td><td>29</td></tr>\n",
       "<tr><td>Monica R. Alonzo</td><td>28</td></tr>\n",
       "<tr><td>Lee M. Kleinman</td><td>27</td></tr>\n",
       "</table>\n"
      ],
      "text/plain": [
       "+--------------------+------+\n",
       "|          VOTER NAME|ROW_ID|\n",
       "+--------------------+------+\n",
       "|                NULL|    36|\n",
       "|        Lee Kleinman|    35|\n",
       "|  the  final  201...|    34|\n",
       "|         Erik Wilson|    33|\n",
       "|  the  final   20...|    32|\n",
       "| Carolyn King Arnold|    31|\n",
       "| Rickey D.  Callahan|    30|\n",
       "|   the   final  2...|    29|\n",
       "|    Monica R. Alonzo|    28|\n",
       "|     Lee M. Kleinman|    27|\n",
       "+--------------------+------+"
      ]
     },
     "execution_count": 57,
     "metadata": {},
     "output_type": "execute_result"
    }
   ],
   "source": [
    "# Show the rows with 10 highest IDs in the set (desc order)\n",
    "voter_df.orderBy(voter_df.ROW_ID.desc()).limit(10)"
   ]
  },
  {
   "cell_type": "markdown",
   "id": "2bc7063d-f0e1-4ada-82d0-7ef82812756e",
   "metadata": {},
   "source": [
    "## Ex. 7 - IDs with different partitions\n",
    "\n",
    "You've just completed adding an ID field to a DataFrame. Now, take a look at what happens when you do the same thing on DataFrames containing a different number of partitions.\n",
    "\n",
    "To check the number of partitions, use the method `.rdd.getNumPartitions()` on a DataFrame.\n",
    "\n",
    "**Instructions:**\n",
    "\n",
    "1. Print the number of partitions on each DataFrame.\n",
    "2. Add a `ROW_ID` field to each DataFrame.\n",
    "3. Show the top 10 IDs in each DataFrame."
   ]
  },
  {
   "cell_type": "code",
   "execution_count": 58,
   "id": "fe73e571-123d-4bf4-9185-9c5366f1f83a",
   "metadata": {},
   "outputs": [
    {
     "data": {
      "text/html": [
       "<table border='1'>\n",
       "<tr><th>DATE</th><th>AGENDA_ITEM_NUMBER</th><th>ITEM_TYPE</th><th>DISTRICT</th><th>TITLE</th><th>VOTER NAME</th><th>VOTE CAST</th><th>FINAL ACTION TAKEN</th><th>AGENDA ITEM DESCRIPTION</th><th>AGENDA_ID</th><th>VOTE_ID</th></tr>\n",
       "<tr><td>2017-02-08</td><td>1</td><td>AGENDA</td><td>13</td><td>Councilmember</td><td>Jennifer S. Gates</td><td>N/A</td><td>NO ACTION NEEDED</td><td>Call to Order</td><td>020817__Special__1</td><td>020817__Special__...</td></tr>\n",
       "<tr><td>2017-02-08</td><td>1</td><td>AGENDA</td><td>14</td><td>Councilmember</td><td>Philip T. Kingston</td><td>N/A</td><td>NO ACTION NEEDED</td><td>Call to Order</td><td>020817__Special__1</td><td>020817__Special__...</td></tr>\n",
       "</table>\n"
      ],
      "text/plain": [
       "+----------+------------------+---------+--------+-------------+------------------+---------+------------------+-----------------------+------------------+--------------------+\n",
       "|      DATE|AGENDA_ITEM_NUMBER|ITEM_TYPE|DISTRICT|        TITLE|        VOTER NAME|VOTE CAST|FINAL ACTION TAKEN|AGENDA ITEM DESCRIPTION|         AGENDA_ID|             VOTE_ID|\n",
       "+----------+------------------+---------+--------+-------------+------------------+---------+------------------+-----------------------+------------------+--------------------+\n",
       "|2017-02-08|                 1|   AGENDA|      13|Councilmember| Jennifer S. Gates|      N/A|  NO ACTION NEEDED|          Call to Order|020817__Special__1|020817__Special__...|\n",
       "|2017-02-08|                 1|   AGENDA|      14|Councilmember|Philip T. Kingston|      N/A|  NO ACTION NEEDED|          Call to Order|020817__Special__1|020817__Special__...|\n",
       "+----------+------------------+---------+--------+-------------+------------------+---------+------------------+-----------------------+------------------+--------------------+"
      ]
     },
     "execution_count": 58,
     "metadata": {},
     "output_type": "execute_result"
    }
   ],
   "source": [
    "# Review the data\n",
    "dallas_votes.limit(2)"
   ]
  },
  {
   "cell_type": "code",
   "execution_count": 59,
   "id": "63f29ab2-c3a7-4b22-9abf-25fb6889d482",
   "metadata": {},
   "outputs": [
    {
     "data": {
      "text/plain": [
       "True"
      ]
     },
     "execution_count": 59,
     "metadata": {},
     "output_type": "execute_result"
    }
   ],
   "source": [
    "# Preparing the data\n",
    "df1_votes = dallas_votes.select('VOTER NAME').distinct()                 # 1 - partition\n",
    "df5_votes = dallas_votes.select('VOTER NAME').distinct().repartition(5)  # 5 - partition\n",
    "df1_votes.count() == df5_votes.count()"
   ]
  },
  {
   "cell_type": "code",
   "execution_count": 60,
   "id": "511d0e19-e13d-4568-aa8e-50c789fc42f4",
   "metadata": {},
   "outputs": [
    {
     "name": "stdout",
     "output_type": "stream",
     "text": [
      "There are 5 partitions in the df5_votes DataFrame.\n",
      "There are 1 partitions in the df1_votes DataFrame.\n"
     ]
    }
   ],
   "source": [
    "# Print the number of partitions in each DataFrame\n",
    "print(\"There are %d partitions in the df5_votes DataFrame.\" % df5_votes.rdd.getNumPartitions())\n",
    "print(\"There are %d partitions in the df1_votes DataFrame.\" % df1_votes.rdd.getNumPartitions())"
   ]
  },
  {
   "cell_type": "code",
   "execution_count": 61,
   "id": "713bc7f5-8bb8-4ca9-94d9-2ae36542d7fb",
   "metadata": {},
   "outputs": [],
   "source": [
    "# Add a ROW_ID field to each DataFrame\n",
    "df5_votes = df5_votes.withColumn('ROW_ID', F.monotonically_increasing_id())\n",
    "df1_votes = df1_votes.withColumn('ROW_ID', F.monotonically_increasing_id())"
   ]
  },
  {
   "cell_type": "markdown",
   "id": "901c6796-acca-403e-bbfc-8796b620282c",
   "metadata": {},
   "source": [
    "**Note:** \n",
    "> Notice the drastic difference in the `'ROW_ID'` values between the two Data Frames. Understanding how lazy processing and partitioning behave are integral to mastering Spark. Make sure to always test your assumptions when creating a Spark workflow to avoid nasty suprises in production."
   ]
  },
  {
   "cell_type": "code",
   "execution_count": 62,
   "id": "cccb7ac3-57fb-4632-815c-96121ff6eeeb",
   "metadata": {},
   "outputs": [
    {
     "name": "stdout",
     "output_type": "stream",
     "text": [
      "+--------------------+-----------+\n",
      "|          VOTER NAME|     ROW_ID|\n",
      "+--------------------+-----------+\n",
      "|        Lee Kleinman|34359738375|\n",
      "|       Mark  Clayton|34359738374|\n",
      "|    Casey Thomas, II|34359738373|\n",
      "|  Philip T. Kingston|34359738372|\n",
      "|  the  final  201...|34359738371|\n",
      "|          011018__42|34359738370|\n",
      "|       Sandy Greyson|34359738369|\n",
      "|   Casey  Thomas, II|34359738368|\n",
      "|        Omar Narvaez|25769803782|\n",
      "|        Mark Clayton|25769803781|\n",
      "|       Scott  Griggs|25769803780|\n",
      "|   Jennifer S. Gates|25769803779|\n",
      "| Michael S. Rawlings|25769803778|\n",
      "|                NULL|25769803777|\n",
      "|     Lee M. Kleinman|25769803776|\n",
      "|      Tennell Atkins|17179869190|\n",
      "|    Monica R. Alonzo|17179869189|\n",
      "|        Adam Medrano|17179869188|\n",
      "| the final 2018 A...|17179869187|\n",
      "|        Kevin Felder|17179869186|\n",
      "|   the   final  2...|17179869185|\n",
      "|   Dwaine R. Caraway|17179869184|\n",
      "| Carolyn King Arnold| 8589934598|\n",
      "|  the  final  201...| 8589934597|\n",
      "|   the   final  2...| 8589934596|\n",
      "| Rickey D.  Callahan| 8589934595|\n",
      "|        Scott Griggs| 8589934594|\n",
      "|  Rickey D. Callahan| 8589934593|\n",
      "| Philip T.  Kingston| 8589934592|\n",
      "|      Sandy  Greyson|          6|\n",
      "|         Erik Wilson|          5|\n",
      "|  the  final   20...|          4|\n",
      "|   Tiffinni A. Young|          3|\n",
      "|  the  final   20...|          2|\n",
      "|    B. Adam  McGough|          1|\n",
      "|  Jennifer S.  Gates|          0|\n",
      "+--------------------+-----------+\n",
      "\n"
     ]
    }
   ],
   "source": [
    "# Show the top 10 IDs in df5_votes DataFrame \n",
    "df5_votes.orderBy(df5_votes.ROW_ID.desc()).show(36)"
   ]
  },
  {
   "cell_type": "code",
   "execution_count": 63,
   "id": "4c798dd6-04d9-4372-bbe0-ab5d8f218704",
   "metadata": {},
   "outputs": [
    {
     "name": "stdout",
     "output_type": "stream",
     "text": [
      "+--------------------+------+\n",
      "|          VOTER NAME|ROW_ID|\n",
      "+--------------------+------+\n",
      "|                NULL|    35|\n",
      "|        Lee Kleinman|    34|\n",
      "|  the  final  201...|    33|\n",
      "|         Erik Wilson|    32|\n",
      "|  the  final   20...|    31|\n",
      "| Carolyn King Arnold|    30|\n",
      "| Rickey D.  Callahan|    29|\n",
      "|   the   final  2...|    28|\n",
      "|    Monica R. Alonzo|    27|\n",
      "|     Lee M. Kleinman|    26|\n",
      "|   Jennifer S. Gates|    25|\n",
      "| Philip T.  Kingston|    24|\n",
      "|   Dwaine R. Caraway|    23|\n",
      "|  Rickey D. Callahan|    22|\n",
      "|  Philip T. Kingston|    21|\n",
      "|        Omar Narvaez|    20|\n",
      "|    B. Adam  McGough|    19|\n",
      "|  the  final  201...|    18|\n",
      "|   Tiffinni A. Young|    17|\n",
      "|  Jennifer S.  Gates|    16|\n",
      "|        Mark Clayton|    15|\n",
      "|      Sandy  Greyson|    14|\n",
      "|   Casey  Thomas, II|    13|\n",
      "|       Mark  Clayton|    12|\n",
      "|    Casey Thomas, II|    11|\n",
      "|          011018__42|    10|\n",
      "|   the   final  2...|     9|\n",
      "|        Adam Medrano|     8|\n",
      "|        Kevin Felder|     7|\n",
      "| the final 2018 A...|     6|\n",
      "| Michael S. Rawlings|     5|\n",
      "|       Sandy Greyson|     4|\n",
      "|       Scott  Griggs|     3|\n",
      "|        Scott Griggs|     2|\n",
      "|  the  final   20...|     1|\n",
      "|      Tennell Atkins|     0|\n",
      "+--------------------+------+\n",
      "\n"
     ]
    }
   ],
   "source": [
    "# Show the top 10 IDs in df1_votes DataFrame \n",
    "df1_votes.orderBy(df1_votes.ROW_ID.desc()).show(36)"
   ]
  },
  {
   "cell_type": "markdown",
   "id": "aa1af205-bed4-484c-8826-a821b5db117d",
   "metadata": {},
   "source": [
    "## Ex. 8 - More ID tricks\n",
    "\n",
    "Once you define a Spark process, you'll likely want to use it many times. Depending on your needs, you may want to start your IDs at a certain value so there isn't overlap with previous runs of the Spark task. This behavior is similar to how IDs would behave in a relational database. You have been given the task to make sure that the IDs output from a monthly Spark task start at the highest value from the previous month.\n",
    "\n",
    "**Instructions:**\n",
    "\n",
    "1. Determine the highest `ROW_ID` in `voter_df_march` and save it in the variable `previous_max_ID`. The statement `.rdd.max()[0]` will get the maximum ID.\n",
    "2. Add a `ROW_ID` column to `voter_df_april` starting at the value of `previous_max_ID`.\n",
    "3. Show the `ROW_ID`'s from both Data Frames and compare."
   ]
  },
  {
   "cell_type": "code",
   "execution_count": 64,
   "id": "a932fded-2d96-4d9d-90f1-94386b8b0ae7",
   "metadata": {},
   "outputs": [
    {
     "data": {
      "text/html": [
       "<table border='1'>\n",
       "<tr><th>DATE</th><th>TITLE</th><th>VOTER_NAME</th></tr>\n",
       "<tr><td>2017-02-08</td><td>Councilmember</td><td>Jennifer S. Gates</td></tr>\n",
       "<tr><td>2017-02-08</td><td>Councilmember</td><td>Philip T. Kingston</td></tr>\n",
       "</table>\n"
      ],
      "text/plain": [
       "+----------+-------------+------------------+\n",
       "|      DATE|        TITLE|        VOTER_NAME|\n",
       "+----------+-------------+------------------+\n",
       "|2017-02-08|Councilmember| Jennifer S. Gates|\n",
       "|2017-02-08|Councilmember|Philip T. Kingston|\n",
       "+----------+-------------+------------------+"
      ]
     },
     "execution_count": 64,
     "metadata": {},
     "output_type": "execute_result"
    }
   ],
   "source": [
    "# Review the data\n",
    "dallas_electors.limit(2)"
   ]
  },
  {
   "cell_type": "code",
   "execution_count": 65,
   "id": "a0d1f67b-d4be-4d34-87bc-7c7b4e15b045",
   "metadata": {},
   "outputs": [
    {
     "name": "stdout",
     "output_type": "stream",
     "text": [
      "Total rows: 15\n"
     ]
    },
    {
     "data": {
      "text/html": [
       "<table border='1'>\n",
       "<tr><th>VOTER_NAME</th><th>ROW_ID</th></tr>\n",
       "<tr><td>Scott Griggs</td><td>1</td></tr>\n",
       "<tr><td>Sandy Greyson</td><td>2</td></tr>\n",
       "</table>\n"
      ],
      "text/plain": [
       "+-------------+------+\n",
       "|   VOTER_NAME|ROW_ID|\n",
       "+-------------+------+\n",
       "| Scott Griggs|     1|\n",
       "|Sandy Greyson|     2|\n",
       "+-------------+------+"
      ]
     },
     "execution_count": 65,
     "metadata": {},
     "output_type": "execute_result"
    }
   ],
   "source": [
    "# Prepare the data - march\n",
    "voter_df_march = (dallas_electors.filter(dallas_electors.DATE >= pd.to_datetime('2017-03-01'))\n",
    "                                 .filter(dallas_electors.DATE <= pd.to_datetime('2017-03-31'))\n",
    "                                 .select('VOTER_NAME').distinct()\n",
    "                                 .withColumn('ROW_ID', F.monotonically_increasing_id() + 1))\n",
    "print('Total rows:', voter_df_march.count())\n",
    "voter_df_march.limit(2)"
   ]
  },
  {
   "cell_type": "code",
   "execution_count": 66,
   "id": "803019fe-31c7-40b2-b66f-48068523394f",
   "metadata": {},
   "outputs": [
    {
     "name": "stdout",
     "output_type": "stream",
     "text": [
      "Total rows: 15\n"
     ]
    },
    {
     "data": {
      "text/html": [
       "<table border='1'>\n",
       "<tr><th>VOTER_NAME</th></tr>\n",
       "<tr><td>Scott Griggs</td></tr>\n",
       "<tr><td>Sandy Greyson</td></tr>\n",
       "</table>\n"
      ],
      "text/plain": [
       "+-------------+\n",
       "|   VOTER_NAME|\n",
       "+-------------+\n",
       "| Scott Griggs|\n",
       "|Sandy Greyson|\n",
       "+-------------+"
      ]
     },
     "execution_count": 66,
     "metadata": {},
     "output_type": "execute_result"
    }
   ],
   "source": [
    "# Prepare the data - april\n",
    "voter_df_april = (dallas_electors.filter(dallas_electors.DATE >= pd.to_datetime('2017-04-01'))\n",
    "                                 .filter(dallas_electors.DATE <= pd.to_datetime('2017-04-30'))\n",
    "                                 .select('VOTER_NAME').distinct())\n",
    "print('Total rows:', voter_df_april.count())\n",
    "voter_df_april.limit(2)"
   ]
  },
  {
   "cell_type": "code",
   "execution_count": 67,
   "id": "cc2052dd-44fb-49f1-8168-86fb7675a31f",
   "metadata": {},
   "outputs": [
    {
     "data": {
      "text/plain": [
       "15"
      ]
     },
     "execution_count": 67,
     "metadata": {},
     "output_type": "execute_result"
    }
   ],
   "source": [
    "# Determine the highest ROW_ID and save it in previous_max_ID\n",
    "previous_max_ID = voter_df_march.select('ROW_ID').rdd.max()[0]\n",
    "previous_max_ID"
   ]
  },
  {
   "cell_type": "code",
   "execution_count": 68,
   "id": "7ae778b1-90a0-491a-8849-d772f1c67447",
   "metadata": {},
   "outputs": [
    {
     "name": "stdout",
     "output_type": "stream",
     "text": [
      "Row(max(ROW_ID)=15)\n"
     ]
    },
    {
     "data": {
      "text/plain": [
       "15"
      ]
     },
     "execution_count": 68,
     "metadata": {},
     "output_type": "execute_result"
    }
   ],
   "source": [
    "print(voter_df_march.selectExpr('max(ROW_ID)').collect()[0])\n",
    "voter_df_march.selectExpr('max(ROW_ID)').collect()[0]['max(ROW_ID)']"
   ]
  },
  {
   "cell_type": "code",
   "execution_count": 69,
   "id": "0d25aefb-6668-4a2d-80df-e305cd8be0a6",
   "metadata": {},
   "outputs": [
    {
     "name": "stdout",
     "output_type": "stream",
     "text": [
      "Row(max(ROW_ID)=15)\n"
     ]
    },
    {
     "data": {
      "text/plain": [
       "15"
      ]
     },
     "execution_count": 69,
     "metadata": {},
     "output_type": "execute_result"
    }
   ],
   "source": [
    "print(voter_df_march.select(F.max('ROW_ID')).collect()[0])\n",
    "voter_df_march.select(F.max('ROW_ID')).collect()[0]['max(ROW_ID)']"
   ]
  },
  {
   "cell_type": "code",
   "execution_count": 70,
   "id": "584dd002-ffa6-4131-bafd-d93ed5ca3f6d",
   "metadata": {},
   "outputs": [
    {
     "name": "stdout",
     "output_type": "stream",
     "text": [
      "Total rows: 15\n"
     ]
    },
    {
     "data": {
      "text/html": [
       "<table border='1'>\n",
       "<tr><th>VOTER_NAME</th><th>ROW_ID</th></tr>\n",
       "<tr><td>Scott Griggs</td><td>16</td></tr>\n",
       "<tr><td>Sandy Greyson</td><td>17</td></tr>\n",
       "</table>\n"
      ],
      "text/plain": [
       "+-------------+------+\n",
       "|   VOTER_NAME|ROW_ID|\n",
       "+-------------+------+\n",
       "| Scott Griggs|    16|\n",
       "|Sandy Greyson|    17|\n",
       "+-------------+------+"
      ]
     },
     "execution_count": 70,
     "metadata": {},
     "output_type": "execute_result"
    }
   ],
   "source": [
    "# Add a ROW_ID column to voter_df_april starting at the desired value\n",
    "voter_df_april = voter_df_april.withColumn('ROW_ID', F.monotonically_increasing_id() + previous_max_ID + 1)\n",
    "print('Total rows:', voter_df_april.count())\n",
    "voter_df_april.limit(2)"
   ]
  },
  {
   "cell_type": "code",
   "execution_count": 71,
   "id": "e5b6f56c-ebf8-46f4-859e-5f1c70bb2d3e",
   "metadata": {},
   "outputs": [
    {
     "name": "stdout",
     "output_type": "stream",
     "text": [
      "+------+\n",
      "|ROW_ID|\n",
      "+------+\n",
      "|     1|\n",
      "|     2|\n",
      "|     3|\n",
      "|     4|\n",
      "|     5|\n",
      "|     6|\n",
      "|     7|\n",
      "|     8|\n",
      "|     9|\n",
      "|    10|\n",
      "|    11|\n",
      "|    12|\n",
      "|    13|\n",
      "|    14|\n",
      "|    15|\n",
      "+------+\n",
      "\n",
      "+------+\n",
      "|ROW_ID|\n",
      "+------+\n",
      "|    16|\n",
      "|    17|\n",
      "|    18|\n",
      "|    19|\n",
      "|    20|\n",
      "|    21|\n",
      "|    22|\n",
      "|    23|\n",
      "|    24|\n",
      "|    25|\n",
      "|    26|\n",
      "|    27|\n",
      "|    28|\n",
      "|    29|\n",
      "|    30|\n",
      "+------+\n",
      "\n"
     ]
    }
   ],
   "source": [
    "# Show the ROW_ID from both DataFrames and compare\n",
    "voter_df_march.select('ROW_ID').show()\n",
    "voter_df_april.select('ROW_ID').show()"
   ]
  },
  {
   "cell_type": "markdown",
   "id": "c84744cb-27ee-40bb-a5c3-a8b24d7342c0",
   "metadata": {},
   "source": [
    "## Close session"
   ]
  },
  {
   "cell_type": "code",
   "execution_count": 72,
   "id": "0a35b740-9e99-4e09-8ccc-81e0ea59e93f",
   "metadata": {},
   "outputs": [],
   "source": [
    "spark.stop()"
   ]
  },
  {
   "cell_type": "code",
   "execution_count": null,
   "id": "382aa0d6-d5f7-4180-a803-f58b165acd30",
   "metadata": {},
   "outputs": [],
   "source": []
  }
 ],
 "metadata": {
  "kernelspec": {
   "display_name": "Python 3 (ipykernel)",
   "language": "python",
   "name": "python3"
  },
  "language_info": {
   "codemirror_mode": {
    "name": "ipython",
    "version": 3
   },
   "file_extension": ".py",
   "mimetype": "text/x-python",
   "name": "python",
   "nbconvert_exporter": "python",
   "pygments_lexer": "ipython3",
   "version": "3.11.9"
  }
 },
 "nbformat": 4,
 "nbformat_minor": 5
}
